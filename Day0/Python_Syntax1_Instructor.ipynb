{
  "nbformat": 4,
  "nbformat_minor": 0,
  "metadata": {
    "celltoolbar": "Slideshow",
    "kernelspec": {
      "display_name": "Python 3",
      "language": "python",
      "name": "python3"
    },
    "language_info": {
      "codemirror_mode": {
        "name": "ipython",
        "version": 3
      },
      "file_extension": ".py",
      "mimetype": "text/x-python",
      "name": "python",
      "nbconvert_exporter": "python",
      "pygments_lexer": "ipython3",
      "version": "3.6.9"
    },
    "colab": {
      "name": "Copy of Python Syntax1.ipynb",
      "provenance": [],
      "collapsed_sections": [
        "X3e5uuLSSPUE",
        "bT7OF5OaSPUY",
        "yiXccyJqSPUj",
        "61dX1jBbSPUt",
        "orMdz8xaSPUx",
        "av38k5f7SPU9",
        "1pR0dSDpSPU-"
      ]
    }
  },
  "cells": [
    {
      "cell_type": "markdown",
      "metadata": {
        "id": "mDvgFoq0SPQP",
        "colab_type": "text"
      },
      "source": [
        "# This is a Markdown document\n",
        "\n",
        "to learn more, go to this [Markdown cheatsheet](https://github.com/adam-p/markdown-here/wiki/Markdown-Cheatsheet)\n",
        "# This is the title\n",
        "mean\n",
        "## This is a subtitle\n",
        "\n",
        "$ X = \\sqrt{Y * 2 + Z^2} $\n",
        "\n",
        "![](https://icatcare.org/app/uploads/2018/07/Thinking-of-getting-a-cat.png)\n",
        "\n",
        "![This is a cat!](https://icatcare.org/app/uploads/2018/07/Thinking-of-getting-a-cat.png)"
      ]
    },
    {
      "cell_type": "markdown",
      "metadata": {
        "id": "RD00Is4snW_Z",
        "colab_type": "text"
      },
      "source": [
        "hjhjjh"
      ]
    },
    {
      "cell_type": "markdown",
      "metadata": {
        "id": "fjguEtx2ZZV9",
        "colab_type": "text"
      },
      "source": [
        "Another point"
      ]
    },
    {
      "cell_type": "code",
      "metadata": {
        "id": "fYcsiKAonZsG",
        "colab_type": "code",
        "colab": {
          "base_uri": "https://localhost:8080/",
          "height": 35
        },
        "outputId": "2c0f6092-2a69-4ffd-f279-4cd3a915ba48"
      },
      "source": [
        "3 + 2"
      ],
      "execution_count": 29,
      "outputs": [
        {
          "output_type": "execute_result",
          "data": {
            "text/plain": [
              "5"
            ]
          },
          "metadata": {
            "tags": []
          },
          "execution_count": 29
        }
      ]
    },
    {
      "cell_type": "code",
      "metadata": {
        "id": "LRvRt7ZRV6uK",
        "colab_type": "code",
        "colab": {
          "base_uri": "https://localhost:8080/",
          "height": 35
        },
        "outputId": "a805b6f8-0c87-49f4-a1d0-4b8992e5094b"
      },
      "source": [
        "3 + 2"
      ],
      "execution_count": 3,
      "outputs": [
        {
          "output_type": "execute_result",
          "data": {
            "text/plain": [
              "5"
            ]
          },
          "metadata": {
            "tags": []
          },
          "execution_count": 3
        }
      ]
    },
    {
      "cell_type": "markdown",
      "metadata": {
        "id": "0i_YmtcXZ3x4",
        "colab_type": "text"
      },
      "source": [
        ""
      ]
    },
    {
      "cell_type": "markdown",
      "metadata": {
        "id": "xML8EvTySPQS",
        "colab_type": "text"
      },
      "source": [
        "## Exercises: Using Python as a calculator\n",
        "\n",
        "Using the operators in the table below, ask Python to solve these difficult math equations:\n",
        "\n",
        "|Assign to a Variable | Add  | Subract | Multiply | Divide | Power | Integer Divide | Remainder after Division | \n",
        "|  :---------------:  | :---:| :-----: | :------: | :----: | :---: | :------------: | :----------------------: |\n",
        "|         =           |  +   |    -    |    *     |   /    |   **  |       //       |           %              |"
      ]
    },
    {
      "cell_type": "markdown",
      "metadata": {
        "id": "QLriFeEESPQT",
        "colab_type": "text"
      },
      "source": [
        "1. What is two plus three?"
      ]
    },
    {
      "cell_type": "code",
      "metadata": {
        "id": "W16J5W45SPQU",
        "colab_type": "code",
        "colab": {
          "base_uri": "https://localhost:8080/",
          "height": 35
        },
        "outputId": "ddb93d18-69ed-4824-970a-8a1fc9f747c1"
      },
      "source": [
        "2 + 3"
      ],
      "execution_count": 5,
      "outputs": [
        {
          "output_type": "execute_result",
          "data": {
            "text/plain": [
              "5"
            ]
          },
          "metadata": {
            "tags": []
          },
          "execution_count": 5
        }
      ]
    },
    {
      "cell_type": "markdown",
      "metadata": {
        "id": "LYR6F5GfSPQX",
        "colab_type": "text"
      },
      "source": [
        "2. What is two times three?"
      ]
    },
    {
      "cell_type": "code",
      "metadata": {
        "id": "6Ut3yCpHSPQZ",
        "colab_type": "code",
        "colab": {
          "base_uri": "https://localhost:8080/",
          "height": 35
        },
        "outputId": "b08d7502-5873-45ea-8ab6-65f3eee32c1c"
      },
      "source": [
        "2 * 3"
      ],
      "execution_count": 6,
      "outputs": [
        {
          "output_type": "execute_result",
          "data": {
            "text/plain": [
              "6"
            ]
          },
          "metadata": {
            "tags": []
          },
          "execution_count": 6
        }
      ]
    },
    {
      "cell_type": "markdown",
      "metadata": {
        "id": "dxTFMnRySPQc",
        "colab_type": "text"
      },
      "source": [
        "3. What is two to the third power?"
      ]
    },
    {
      "cell_type": "code",
      "metadata": {
        "id": "3YcZS07XSPQd",
        "colab_type": "code",
        "colab": {
          "base_uri": "https://localhost:8080/",
          "height": 35
        },
        "outputId": "39d1ed33-f26c-41eb-9ce7-407dcb29bd34"
      },
      "source": [
        "2 ** 3"
      ],
      "execution_count": 7,
      "outputs": [
        {
          "output_type": "execute_result",
          "data": {
            "text/plain": [
              "8"
            ]
          },
          "metadata": {
            "tags": []
          },
          "execution_count": 7
        }
      ]
    },
    {
      "cell_type": "markdown",
      "metadata": {
        "id": "4qAqYHzpSPQg",
        "colab_type": "text"
      },
      "source": [
        "3.5 How many (whole) times does 7 go into 100?"
      ]
    },
    {
      "cell_type": "code",
      "metadata": {
        "id": "xWfNRkuASPQh",
        "colab_type": "code",
        "colab": {
          "base_uri": "https://localhost:8080/",
          "height": 35
        },
        "outputId": "9710121c-39c2-40e4-8ef2-a62f25b46fad"
      },
      "source": [
        "100 // 7"
      ],
      "execution_count": 8,
      "outputs": [
        {
          "output_type": "execute_result",
          "data": {
            "text/plain": [
              "14"
            ]
          },
          "metadata": {
            "tags": []
          },
          "execution_count": 8
        }
      ]
    },
    {
      "cell_type": "markdown",
      "metadata": {
        "id": "Kb2N_wdTSPQj",
        "colab_type": "text"
      },
      "source": [
        "4. What is the remainder after dividing 3 from 2?"
      ]
    },
    {
      "cell_type": "code",
      "metadata": {
        "id": "fUQfBO7KSPQl",
        "colab_type": "code",
        "colab": {
          "base_uri": "https://localhost:8080/",
          "height": 35
        },
        "outputId": "999bcb00-788b-4057-f2fb-bf4c5c9253e7"
      },
      "source": [
        "2 % 3"
      ],
      "execution_count": 11,
      "outputs": [
        {
          "output_type": "execute_result",
          "data": {
            "text/plain": [
              "2"
            ]
          },
          "metadata": {
            "tags": []
          },
          "execution_count": 11
        }
      ]
    },
    {
      "cell_type": "code",
      "metadata": {
        "id": "2RFBRSabeDEe",
        "colab_type": "code",
        "colab": {
          "base_uri": "https://localhost:8080/",
          "height": 35
        },
        "outputId": "35541e26-afb8-4e76-e70c-f1af0bdc223c"
      },
      "source": [
        "3 % 2"
      ],
      "execution_count": 12,
      "outputs": [
        {
          "output_type": "execute_result",
          "data": {
            "text/plain": [
              "1"
            ]
          },
          "metadata": {
            "tags": []
          },
          "execution_count": 12
        }
      ]
    },
    {
      "cell_type": "code",
      "metadata": {
        "id": "N8LYu5sVeE63",
        "colab_type": "code",
        "colab": {
          "base_uri": "https://localhost:8080/",
          "height": 35
        },
        "outputId": "7a1878f2-55f6-4200-8316-ecc0282899ac"
      },
      "source": [
        "5 % 2"
      ],
      "execution_count": 13,
      "outputs": [
        {
          "output_type": "execute_result",
          "data": {
            "text/plain": [
              "1"
            ]
          },
          "metadata": {
            "tags": []
          },
          "execution_count": 13
        }
      ]
    },
    {
      "cell_type": "code",
      "metadata": {
        "id": "OrZrfr-ueGzo",
        "colab_type": "code",
        "colab": {
          "base_uri": "https://localhost:8080/",
          "height": 35
        },
        "outputId": "fffa8d87-d72b-447a-bd6c-fa31d892e292"
      },
      "source": [
        "5 % 10"
      ],
      "execution_count": 14,
      "outputs": [
        {
          "output_type": "execute_result",
          "data": {
            "text/plain": [
              "5"
            ]
          },
          "metadata": {
            "tags": []
          },
          "execution_count": 14
        }
      ]
    },
    {
      "cell_type": "code",
      "metadata": {
        "id": "fR7d2Of4eJwB",
        "colab_type": "code",
        "colab": {
          "base_uri": "https://localhost:8080/",
          "height": 35
        },
        "outputId": "e6e45806-099c-46dd-9a2e-bde79f769e82"
      },
      "source": [
        "10 % 5"
      ],
      "execution_count": 15,
      "outputs": [
        {
          "output_type": "execute_result",
          "data": {
            "text/plain": [
              "0"
            ]
          },
          "metadata": {
            "tags": []
          },
          "execution_count": 15
        }
      ]
    },
    {
      "cell_type": "code",
      "metadata": {
        "id": "oDHPqwevd13e",
        "colab_type": "code",
        "colab": {
          "base_uri": "https://localhost:8080/",
          "height": 35
        },
        "outputId": "559042b5-3b4d-4dc8-ab8f-88a32f39dcf5"
      },
      "source": [
        "3 + 2 + 1 + 3"
      ],
      "execution_count": 10,
      "outputs": [
        {
          "output_type": "execute_result",
          "data": {
            "text/plain": [
              "9"
            ]
          },
          "metadata": {
            "tags": []
          },
          "execution_count": 10
        }
      ]
    },
    {
      "cell_type": "markdown",
      "metadata": {
        "id": "wDs6rsgDSPQp",
        "colab_type": "text"
      },
      "source": [
        "#### Let's See: Does Python do operations left-to-right, or follow the mathematical order of operations (addition and subtraction only after multiplication and division)?\n",
        "\n",
        "Read each of the following math expressions to yourself and calculate (on paper, or in your head) what the answer shoud be.  Then check the answer by calculating it in Python.  Were they the same answer?"
      ]
    },
    {
      "cell_type": "markdown",
      "metadata": {
        "id": "mCXm4o8HSPQr",
        "colab_type": "text"
      },
      "source": [
        "3 + 5 + 2"
      ]
    },
    {
      "cell_type": "code",
      "metadata": {
        "id": "GXvHlz0rSPQs",
        "colab_type": "code",
        "colab": {}
      },
      "source": [
        ""
      ],
      "execution_count": 0,
      "outputs": []
    },
    {
      "cell_type": "markdown",
      "metadata": {
        "id": "sZvLgU9ISPQu",
        "colab_type": "text"
      },
      "source": [
        "3 * 5 + 2"
      ]
    },
    {
      "cell_type": "code",
      "metadata": {
        "id": "TK24fNzqSPQv",
        "colab_type": "code",
        "colab": {}
      },
      "source": [
        ""
      ],
      "execution_count": 0,
      "outputs": []
    },
    {
      "cell_type": "markdown",
      "metadata": {
        "id": "WkmMp5TpSPQ1",
        "colab_type": "text"
      },
      "source": [
        "3 + 5 * 2"
      ]
    },
    {
      "cell_type": "code",
      "metadata": {
        "id": "soUlndoZSPQ2",
        "colab_type": "code",
        "colab": {
          "base_uri": "https://localhost:8080/",
          "height": 35
        },
        "outputId": "7c1a6aca-693d-4839-cddf-ce94670018e7"
      },
      "source": [
        "3 + 5 * 2"
      ],
      "execution_count": 16,
      "outputs": [
        {
          "output_type": "execute_result",
          "data": {
            "text/plain": [
              "13"
            ]
          },
          "metadata": {
            "tags": []
          },
          "execution_count": 16
        }
      ]
    },
    {
      "cell_type": "markdown",
      "metadata": {
        "id": "qHvnuso5SPQ6",
        "colab_type": "text"
      },
      "source": [
        "(3 * 5) + 2"
      ]
    },
    {
      "cell_type": "code",
      "metadata": {
        "id": "bFBXivVFSPQ7",
        "colab_type": "code",
        "colab": {
          "base_uri": "https://localhost:8080/",
          "height": 35
        },
        "outputId": "20497c8e-ac4c-4368-bdfd-5123d4db1213"
      },
      "source": [
        "(3 * 5) + 2"
      ],
      "execution_count": 17,
      "outputs": [
        {
          "output_type": "execute_result",
          "data": {
            "text/plain": [
              "17"
            ]
          },
          "metadata": {
            "tags": []
          },
          "execution_count": 17
        }
      ]
    },
    {
      "cell_type": "markdown",
      "metadata": {
        "id": "S_u_LpjTSPQ-",
        "colab_type": "text"
      },
      "source": [
        "3 * (5 + 2)"
      ]
    },
    {
      "cell_type": "code",
      "metadata": {
        "id": "65DZOy_aSPQ-",
        "colab_type": "code",
        "colab": {
          "base_uri": "https://localhost:8080/",
          "height": 35
        },
        "outputId": "224da0fa-9226-497d-b921-3f6561b2f7a4"
      },
      "source": [
        "((3 * 2) + ((3 - 1) - 10))"
      ],
      "execution_count": 18,
      "outputs": [
        {
          "output_type": "execute_result",
          "data": {
            "text/plain": [
              "-2"
            ]
          },
          "metadata": {
            "tags": []
          },
          "execution_count": 18
        }
      ]
    },
    {
      "cell_type": "code",
      "metadata": {
        "id": "-ucnK57mgAwh",
        "colab_type": "code",
        "colab": {
          "base_uri": "https://localhost:8080/",
          "height": 35
        },
        "outputId": "d2a0a324-4145-4789-92bd-262ff13bd0fd"
      },
      "source": [
        "(((3) + 2) - 1 * 10)"
      ],
      "execution_count": 19,
      "outputs": [
        {
          "output_type": "execute_result",
          "data": {
            "text/plain": [
              "-5"
            ]
          },
          "metadata": {
            "tags": []
          },
          "execution_count": 19
        }
      ]
    },
    {
      "cell_type": "markdown",
      "metadata": {
        "id": "AezDxe2eSPRB",
        "colab_type": "text"
      },
      "source": [
        "What order is Python running the code?"
      ]
    },
    {
      "cell_type": "markdown",
      "metadata": {
        "id": "8xmgFwrQSPRC",
        "colab_type": "text"
      },
      "source": [
        "# Python as a Logic Tester\n",
        "## Bools\n",
        "\n",
        "You can also ask Python logical questions (questions that have a \"True\" or \"False\" answer). \n",
        "\n",
        "| \"Is Equal to\" | \"Is Greater than\" | \"Is Greater than or Equal to\"|  \"Is not Equal to\" |\n",
        "|  :----------: |  :----------:     |  :----------: |  :----------: |\n",
        "| ==            |   >               |   >=          |  !=  |\n",
        "\n",
        "Python will return \"True\" if the statement is true, \"False\" if False\n",
        "\n",
        "```python\n",
        ">>> 3 > 2\n",
        "True\n",
        "\n",
        ">>> 3 < 2\n",
        "False\n",
        "\n",
        ">>> 3 == 2\n",
        "False\n",
        "```\n",
        "\n",
        "Using logical operators, decide if the following assertions are True or False:"
      ]
    },
    {
      "cell_type": "markdown",
      "metadata": {
        "id": "obvi-eiNSPRD",
        "colab_type": "text"
      },
      "source": [
        "1. One hundred is bigger than ten."
      ]
    },
    {
      "cell_type": "code",
      "metadata": {
        "id": "JxkxykjsSPRE",
        "colab_type": "code",
        "colab": {
          "base_uri": "https://localhost:8080/",
          "height": 35
        },
        "outputId": "9414196b-202f-4412-a991-6e1772d62ce8"
      },
      "source": [
        "100 > 10"
      ],
      "execution_count": 30,
      "outputs": [
        {
          "output_type": "execute_result",
          "data": {
            "text/plain": [
              "True"
            ]
          },
          "metadata": {
            "tags": []
          },
          "execution_count": 30
        }
      ]
    },
    {
      "cell_type": "code",
      "metadata": {
        "id": "mPb7Z9UrjBlf",
        "colab_type": "code",
        "colab": {
          "base_uri": "https://localhost:8080/",
          "height": 35
        },
        "outputId": "941c5233-bd28-4120-d96f-8e7d42f956f6"
      },
      "source": [
        "4 * 10 < 30"
      ],
      "execution_count": 31,
      "outputs": [
        {
          "output_type": "execute_result",
          "data": {
            "text/plain": [
              "False"
            ]
          },
          "metadata": {
            "tags": []
          },
          "execution_count": 31
        }
      ]
    },
    {
      "cell_type": "markdown",
      "metadata": {
        "id": "zPU8kMHbSPRH",
        "colab_type": "text"
      },
      "source": [
        "2. Thirty squared is not equal to nine-hundred."
      ]
    },
    {
      "cell_type": "code",
      "metadata": {
        "id": "PF2MWbJYSPRI",
        "colab_type": "code",
        "colab": {
          "base_uri": "https://localhost:8080/",
          "height": 35
        },
        "outputId": "6d9f43a4-1d05-41bc-93b8-87c140852310"
      },
      "source": [
        "30 ** 2 != 900"
      ],
      "execution_count": 21,
      "outputs": [
        {
          "output_type": "execute_result",
          "data": {
            "text/plain": [
              "False"
            ]
          },
          "metadata": {
            "tags": []
          },
          "execution_count": 21
        }
      ]
    },
    {
      "cell_type": "markdown",
      "metadata": {
        "id": "q-AQQOFBSPRM",
        "colab_type": "text"
      },
      "source": [
        "3. These two equations are equal:  \n",
        "  - 30 - 5 * 2\n",
        "  - 100 / 5"
      ]
    },
    {
      "cell_type": "code",
      "metadata": {
        "id": "gv2aGjkbSPRN",
        "colab_type": "code",
        "colab": {
          "base_uri": "https://localhost:8080/",
          "height": 35
        },
        "outputId": "e535c609-9086-4d48-9feb-70f350dfffe1"
      },
      "source": [
        "30 - 5 * 2 == 100 / 5"
      ],
      "execution_count": 22,
      "outputs": [
        {
          "output_type": "execute_result",
          "data": {
            "text/plain": [
              "True"
            ]
          },
          "metadata": {
            "tags": []
          },
          "execution_count": 22
        }
      ]
    },
    {
      "cell_type": "code",
      "metadata": {
        "id": "zefr2ScOjkCy",
        "colab_type": "code",
        "colab": {
          "base_uri": "https://localhost:8080/",
          "height": 35
        },
        "outputId": "7c49932b-d4c5-470a-fda3-f44374c3d067"
      },
      "source": [
        "30 - 5 * 2"
      ],
      "execution_count": 23,
      "outputs": [
        {
          "output_type": "execute_result",
          "data": {
            "text/plain": [
              "20"
            ]
          },
          "metadata": {
            "tags": []
          },
          "execution_count": 23
        }
      ]
    },
    {
      "cell_type": "code",
      "metadata": {
        "id": "VLh-lVobjmFF",
        "colab_type": "code",
        "colab": {
          "base_uri": "https://localhost:8080/",
          "height": 35
        },
        "outputId": "3ccf72c2-acc6-43a8-e0a8-dbb864e9a0d9"
      },
      "source": [
        "100 / 5"
      ],
      "execution_count": 24,
      "outputs": [
        {
          "output_type": "execute_result",
          "data": {
            "text/plain": [
              "20.0"
            ]
          },
          "metadata": {
            "tags": []
          },
          "execution_count": 24
        }
      ]
    },
    {
      "cell_type": "markdown",
      "metadata": {
        "id": "Z80w-p8ASPRP",
        "colab_type": "text"
      },
      "source": [
        "4. The sum of the numbers from 1 to 5 are at least 15."
      ]
    },
    {
      "cell_type": "code",
      "metadata": {
        "id": "j7AptpDFSPRQ",
        "colab_type": "code",
        "colab": {
          "base_uri": "https://localhost:8080/",
          "height": 35
        },
        "outputId": "df446bf8-c166-48b3-8805-b65607168dc8"
      },
      "source": [
        "1 + 2 +3 +4 + 5 >= 15"
      ],
      "execution_count": 25,
      "outputs": [
        {
          "output_type": "execute_result",
          "data": {
            "text/plain": [
              "True"
            ]
          },
          "metadata": {
            "tags": []
          },
          "execution_count": 25
        }
      ]
    },
    {
      "cell_type": "markdown",
      "metadata": {
        "id": "W6N03Np1SPRT",
        "colab_type": "text"
      },
      "source": [
        "(optional). The length of all the DNA in a single adult human, unravelled end to end, is greater than the distance from the earth to the the moon."
      ]
    },
    {
      "cell_type": "code",
      "metadata": {
        "id": "1xT-VR1CSPRU",
        "colab_type": "code",
        "colab": {}
      },
      "source": [
        ""
      ],
      "execution_count": 0,
      "outputs": []
    },
    {
      "cell_type": "markdown",
      "metadata": {
        "id": "878DgxR5SPRX",
        "colab_type": "text"
      },
      "source": [
        "## Python as a Data Collector\n",
        "Python also has operators for collecting related data together.  Most of this course will revolve around the pros and cons of different ways of collecting data, but let's take a look at them:\n",
        "\n",
        "| \"tuple\" (fixed sequence) | \"list\" (changeable sequence) | \"str\" (sequence of text characters) | \"bytes\" (sequence of bytes) |  \"set\" {mathematical set)  | \"dict\" (key-value mapping) | \n",
        "| :---------:| :----:    | :--------:    | :--------:    | :--------:    | :--------:    |\n",
        "|  (1, 2, 3) | [1, 2, 3] | \"123\" '123' | b\"123\" b'123' | {1, 2, 3} | {1: 2, 3: 4}  |"
      ]
    },
    {
      "cell_type": "markdown",
      "metadata": {
        "id": "ySdhKeFrSPRY",
        "colab_type": "text"
      },
      "source": [
        "#### Exercises: Making Collections"
      ]
    },
    {
      "cell_type": "markdown",
      "metadata": {
        "id": "9Yun4-qdSPRb",
        "colab_type": "text"
      },
      "source": [
        "Make four difference types of sequences, each containing only the numbers from 1 to 5."
      ]
    },
    {
      "cell_type": "code",
      "metadata": {
        "id": "CB1X04lSSPRc",
        "colab_type": "code",
        "colab": {
          "base_uri": "https://localhost:8080/",
          "height": 35
        },
        "outputId": "8481ef41-31a6-4ba8-f2eb-dda34387ca30"
      },
      "source": [
        "(1, 2, 3, 4, 5)"
      ],
      "execution_count": 32,
      "outputs": [
        {
          "output_type": "execute_result",
          "data": {
            "text/plain": [
              "(1, 2, 3, 4, 5)"
            ]
          },
          "metadata": {
            "tags": []
          },
          "execution_count": 32
        }
      ]
    },
    {
      "cell_type": "code",
      "metadata": {
        "id": "Eaxww6F_SPRg",
        "colab_type": "code",
        "colab": {
          "base_uri": "https://localhost:8080/",
          "height": 35
        },
        "outputId": "9aa78eca-ec3e-4823-bd33-f9be3ff05da7"
      },
      "source": [
        "\"12345\""
      ],
      "execution_count": 34,
      "outputs": [
        {
          "output_type": "execute_result",
          "data": {
            "text/plain": [
              "' 12345'"
            ]
          },
          "metadata": {
            "tags": []
          },
          "execution_count": 34
        }
      ]
    },
    {
      "cell_type": "code",
      "metadata": {
        "id": "JMwArwLoSPRi",
        "colab_type": "code",
        "colab": {
          "base_uri": "https://localhost:8080/",
          "height": 35
        },
        "outputId": "69b9a348-a1b9-4cac-d9eb-5ff0b1550163"
      },
      "source": [
        "[1, 2, 3, 4, 5]"
      ],
      "execution_count": 41,
      "outputs": [
        {
          "output_type": "execute_result",
          "data": {
            "text/plain": [
              "[1, 2, 3, 4, 5]"
            ]
          },
          "metadata": {
            "tags": []
          },
          "execution_count": 41
        }
      ]
    },
    {
      "cell_type": "code",
      "metadata": {
        "id": "FMBmY089SPRl",
        "colab_type": "code",
        "colab": {
          "base_uri": "https://localhost:8080/",
          "height": 35
        },
        "outputId": "c4821686-9dee-497c-d582-a62f002481d4"
      },
      "source": [
        "b\"12345\""
      ],
      "execution_count": 42,
      "outputs": [
        {
          "output_type": "execute_result",
          "data": {
            "text/plain": [
              "b'12345'"
            ]
          },
          "metadata": {
            "tags": []
          },
          "execution_count": 42
        }
      ]
    },
    {
      "cell_type": "markdown",
      "metadata": {
        "id": "es83UqkNSPRo",
        "colab_type": "text"
      },
      "source": [
        "Make a sequence containing 3 names of people in this class."
      ]
    },
    {
      "cell_type": "code",
      "metadata": {
        "id": "3O11YD_cSPRp",
        "colab_type": "code",
        "colab": {
          "base_uri": "https://localhost:8080/",
          "height": 35
        },
        "outputId": "131dc3e7-f1ad-4a2f-d65a-da85d9ff1abf"
      },
      "source": [
        "( \"Negar\", \"Andrea\", \"Anjali\")"
      ],
      "execution_count": 38,
      "outputs": [
        {
          "output_type": "execute_result",
          "data": {
            "text/plain": [
              "('Negar', 'Andrea', 'Anjali')"
            ]
          },
          "metadata": {
            "tags": []
          },
          "execution_count": 38
        }
      ]
    },
    {
      "cell_type": "code",
      "metadata": {
        "id": "0YeRqOE_rgLh",
        "colab_type": "code",
        "colab": {
          "base_uri": "https://localhost:8080/",
          "height": 35
        },
        "outputId": "4092b44c-556c-4bd5-a784-aa365a8666cb"
      },
      "source": [
        "[(1, 2), (3, 4)]"
      ],
      "execution_count": 43,
      "outputs": [
        {
          "output_type": "execute_result",
          "data": {
            "text/plain": [
              "[(1, 2), (3, 4)]"
            ]
          },
          "metadata": {
            "tags": []
          },
          "execution_count": 43
        }
      ]
    },
    {
      "cell_type": "code",
      "metadata": {
        "id": "BrdzXSxnrjuG",
        "colab_type": "code",
        "colab": {
          "base_uri": "https://localhost:8080/",
          "height": 35
        },
        "outputId": "2e476dcd-d9e7-4970-c89f-24a5ea033290"
      },
      "source": [
        "(\"Nick\", 2.3, True, [1, 2])"
      ],
      "execution_count": 44,
      "outputs": [
        {
          "output_type": "execute_result",
          "data": {
            "text/plain": [
              "('Nick', 2.3, True, [1, 2])"
            ]
          },
          "metadata": {
            "tags": []
          },
          "execution_count": 44
        }
      ]
    },
    {
      "cell_type": "code",
      "metadata": {
        "id": "PRQ9TDC2ryII",
        "colab_type": "code",
        "colab": {
          "base_uri": "https://localhost:8080/",
          "height": 35
        },
        "outputId": "6a8cc139-1c7c-4289-cba6-800312b9264d"
      },
      "source": [
        "len((1, 2, 3, 3))"
      ],
      "execution_count": 47,
      "outputs": [
        {
          "output_type": "execute_result",
          "data": {
            "text/plain": [
              "4"
            ]
          },
          "metadata": {
            "tags": []
          },
          "execution_count": 47
        }
      ]
    },
    {
      "cell_type": "markdown",
      "metadata": {
        "id": "Cn-5yPDySPRr",
        "colab_type": "text"
      },
      "source": [
        "Make a list of four animals, ordering them by size."
      ]
    },
    {
      "cell_type": "code",
      "metadata": {
        "id": "SKovdDwDSPRt",
        "colab_type": "code",
        "colab": {
          "base_uri": "https://localhost:8080/",
          "height": 35
        },
        "outputId": "a7b6769d-b900-4f58-844c-a4d7ceffe8ad"
      },
      "source": [
        ""
      ],
      "execution_count": 39,
      "outputs": [
        {
          "output_type": "execute_result",
          "data": {
            "text/plain": [
              "('elephant', 'cow', 'ant')"
            ]
          },
          "metadata": {
            "tags": []
          },
          "execution_count": 39
        }
      ]
    },
    {
      "cell_type": "markdown",
      "metadata": {
        "id": "L22jboi-SPRv",
        "colab_type": "text"
      },
      "source": [
        "Make a mapping of classmates and colors, relating each classmate to their favorie color."
      ]
    },
    {
      "cell_type": "code",
      "metadata": {
        "id": "JhT_b_vmSPRw",
        "colab_type": "code",
        "colab": {
          "base_uri": "https://localhost:8080/",
          "height": 35
        },
        "outputId": "f01f1d37-8ebe-49fb-87b7-ab4760f57781"
      },
      "source": [
        "{\"Joe\": \"green\", \"Jenn\": \"blue\"}\n",
        "{\"Joe: green, Jenn: blue\"}\n",
        "{\"green\": \"Joe\", \"blue\": \"Jenn\", \"blue\": \"Jeff\"}\n",
        "{\"green\": \"Joe\", \"blue\": [\"Jenn\", \"Jeff\"]}"
      ],
      "execution_count": 51,
      "outputs": [
        {
          "output_type": "execute_result",
          "data": {
            "text/plain": [
              "{'blue': ['Jenn', 'Jeff'], 'green': 'Joe'}"
            ]
          },
          "metadata": {
            "tags": []
          },
          "execution_count": 51
        }
      ]
    },
    {
      "cell_type": "markdown",
      "metadata": {
        "id": "nzu8GVBVSPRz",
        "colab_type": "text"
      },
      "source": [
        "Make a mapping of colors to names, relating each color to the people that like it"
      ]
    },
    {
      "cell_type": "code",
      "metadata": {
        "id": "2siDj969SPR0",
        "colab_type": "code",
        "colab": {}
      },
      "source": [
        ""
      ],
      "execution_count": 0,
      "outputs": []
    },
    {
      "cell_type": "markdown",
      "metadata": {
        "id": "B8clxDIlSPR3",
        "colab_type": "text"
      },
      "source": [
        "Collect the set of all letters in your first name."
      ]
    },
    {
      "cell_type": "code",
      "metadata": {
        "id": "WMvgmS08SPR6",
        "colab_type": "code",
        "colab": {}
      },
      "source": [
        ""
      ],
      "execution_count": 0,
      "outputs": []
    },
    {
      "cell_type": "markdown",
      "metadata": {
        "id": "PXV1aYF0SPSA",
        "colab_type": "text"
      },
      "source": [
        "List examples of each type of collection in Python."
      ]
    },
    {
      "cell_type": "code",
      "metadata": {
        "id": "kNHpP0w8SPSB",
        "colab_type": "code",
        "colab": {}
      },
      "source": [
        ""
      ],
      "execution_count": 0,
      "outputs": []
    },
    {
      "cell_type": "markdown",
      "metadata": {
        "id": "2HzK-g9FSPSI",
        "colab_type": "text"
      },
      "source": [
        "Sequences, in particular, have some interesting properties can be concatenated together with the '+' operator:\n",
        "\n",
        "```python\n",
        ">>> \"Hello\" + \"World\"\n",
        "\"HelloWorld\"\n",
        "```"
      ]
    },
    {
      "cell_type": "markdown",
      "metadata": {
        "id": "-NbXK4duSPSL",
        "colab_type": "text"
      },
      "source": [
        "Try concatenating three different types of sequences (containing whatever you wish)"
      ]
    },
    {
      "cell_type": "code",
      "metadata": {
        "id": "ytplNHNrSPSM",
        "colab_type": "code",
        "colab": {
          "base_uri": "https://localhost:8080/",
          "height": 35
        },
        "outputId": "eb2ad078-5593-4698-d26e-bf1a42e35ef6"
      },
      "source": [
        "[1, 2, 3] + [4 ,5, 6]"
      ],
      "execution_count": 52,
      "outputs": [
        {
          "output_type": "execute_result",
          "data": {
            "text/plain": [
              "[1, 2, 3, 4, 5, 6]"
            ]
          },
          "metadata": {
            "tags": []
          },
          "execution_count": 52
        }
      ]
    },
    {
      "cell_type": "code",
      "metadata": {
        "id": "2UjU5FkYSPSP",
        "colab_type": "code",
        "colab": {
          "base_uri": "https://localhost:8080/",
          "height": 35
        },
        "outputId": "ef3f1776-dc6c-443c-9daa-21f1cc347b63"
      },
      "source": [
        "\"Hello\" + \"World\""
      ],
      "execution_count": 53,
      "outputs": [
        {
          "output_type": "execute_result",
          "data": {
            "text/plain": [
              "'HelloWorld'"
            ]
          },
          "metadata": {
            "tags": []
          },
          "execution_count": 53
        }
      ]
    },
    {
      "cell_type": "code",
      "metadata": {
        "id": "9-e5jb5uSPSR",
        "colab_type": "code",
        "colab": {
          "base_uri": "https://localhost:8080/",
          "height": 35
        },
        "outputId": "65756faf-1de1-4b6e-f3bf-709711616030"
      },
      "source": [
        "\"Hello \" * 3"
      ],
      "execution_count": 56,
      "outputs": [
        {
          "output_type": "execute_result",
          "data": {
            "text/plain": [
              "'Hello Hello Hello '"
            ]
          },
          "metadata": {
            "tags": []
          },
          "execution_count": 56
        }
      ]
    },
    {
      "cell_type": "code",
      "metadata": {
        "id": "U0n9VRBIt0ke",
        "colab_type": "code",
        "colab": {
          "base_uri": "https://localhost:8080/",
          "height": 35
        },
        "outputId": "d854489b-309b-4270-c04e-3651333dd9c2"
      },
      "source": [
        "[1, 2, 3] * 3"
      ],
      "execution_count": 55,
      "outputs": [
        {
          "output_type": "execute_result",
          "data": {
            "text/plain": [
              "[1, 2, 3, 1, 2, 3, 1, 2, 3]"
            ]
          },
          "metadata": {
            "tags": []
          },
          "execution_count": 55
        }
      ]
    },
    {
      "cell_type": "code",
      "metadata": {
        "id": "YEHVUlH1-nY7",
        "colab_type": "code",
        "colab": {
          "base_uri": "https://localhost:8080/",
          "height": 35
        },
        "outputId": "754b3be3-0ea6-44a2-d8f1-f4e9a07ee6c9"
      },
      "source": [
        "type(12), type(12.5), type(-20), type(\"23\"), type([1, 2, 3])"
      ],
      "execution_count": 62,
      "outputs": [
        {
          "output_type": "execute_result",
          "data": {
            "text/plain": [
              "(int, float, int, str, list)"
            ]
          },
          "metadata": {
            "tags": []
          },
          "execution_count": 62
        }
      ]
    },
    {
      "cell_type": "markdown",
      "metadata": {
        "id": "OIGEV5KoSPST",
        "colab_type": "text"
      },
      "source": [
        "## Python as a Data Extractor\n",
        "\n",
        "Data can be indexed/queried/extracted from collectoins using the square brackets: [ ]\n",
        "\n",
        "In sequences, putting a number inside the the brackets extracts the nth (counting from zero) value\n",
        "```python\n",
        ">>> (1, 2, 3)[1]\n",
        "2\n",
        "\n",
        ">>> (1, 2, 3)[0]\n",
        "1\n",
        "\n",
        ">>> (1, 2, 3)[-1]\n",
        "3\n",
        "```\n",
        "\n",
        "You can \"slice\" a sequence (get all from one index to another index) using the colon [:]\n",
        "```python\n",
        ">>> (10, 20, 30, 40, 50, 60)[1:3]\n",
        "(20, 30)\n",
        "\n",
        ">>> (10, 20, 30, 40, 50, 60)[:3]\n",
        "(10, 20, 30)\n",
        "\n",
        ">>> (10, 20, 30, 40, 50, 60)[3:]\n",
        "(40, 50, 60)\n",
        "```\n",
        "\n",
        "If you want to slice in steps of a certain size:\n",
        "\n",
        "```python\n",
        ">>>(10, 20, 30, 40, 50, 60)[1:6:2]\n",
        "(20, 40, 60)\n",
        "\n",
        ">>>(10, 20, 30, 40, 50, 60)[::2]\n",
        "(10, 30, 50)\n",
        "\n",
        ">>>(10, 20, 30, 40, 50, 60)[::-1]\n",
        "(60, 50, 40, 30, 20, 10)\n",
        "```\n",
        "\n",
        "\n",
        "In dicts, putting the key inside the brackets returns the associated value.\n",
        "```python\n",
        ">>> {'a': 3, 'b': 4}['a']\n",
        "3\n",
        "\n",
        ">>> {'a': 3, 'b': 4}['b']\n",
        "4\n",
        "```\n"
      ]
    },
    {
      "cell_type": "code",
      "metadata": {
        "id": "UH1Wq71nCb5T",
        "colab_type": "code",
        "colab": {
          "base_uri": "https://localhost:8080/",
          "height": 190
        },
        "outputId": "a9355921-0f6b-4acc-a2c5-552608bd8de3"
      },
      "source": [
        "[Nick, Anna]"
      ],
      "execution_count": 70,
      "outputs": [
        {
          "output_type": "error",
          "ename": "NameError",
          "evalue": "ignored",
          "traceback": [
            "\u001b[0;31m---------------------------------------------------------------------------\u001b[0m",
            "\u001b[0;31mNameError\u001b[0m                                 Traceback (most recent call last)",
            "\u001b[0;32m<ipython-input-70-bde2e9bb3cdd>\u001b[0m in \u001b[0;36m<module>\u001b[0;34m()\u001b[0m\n\u001b[0;32m----> 1\u001b[0;31m \u001b[0;34m[\u001b[0m\u001b[0mNick\u001b[0m\u001b[0;34m,\u001b[0m \u001b[0mAnna\u001b[0m\u001b[0;34m]\u001b[0m\u001b[0;34m\u001b[0m\u001b[0;34m\u001b[0m\u001b[0m\n\u001b[0m",
            "\u001b[0;31mNameError\u001b[0m: name 'Nick' is not defined"
          ]
        }
      ]
    },
    {
      "cell_type": "code",
      "metadata": {
        "id": "ATgCNQQxCtqz",
        "colab_type": "code",
        "colab": {
          "base_uri": "https://localhost:8080/",
          "height": 134
        },
        "outputId": "12b65620-4b18-4fcc-d263-3000677ceb74"
      },
      "source": [
        "(1, 2, 3"
      ],
      "execution_count": 71,
      "outputs": [
        {
          "output_type": "error",
          "ename": "SyntaxError",
          "evalue": "ignored",
          "traceback": [
            "\u001b[0;36m  File \u001b[0;32m\"<ipython-input-71-7cebca5075f1>\"\u001b[0;36m, line \u001b[0;32m1\u001b[0m\n\u001b[0;31m    (1, 2, 3\u001b[0m\n\u001b[0m            ^\u001b[0m\n\u001b[0;31mSyntaxError\u001b[0m\u001b[0;31m:\u001b[0m unexpected EOF while parsing\n"
          ]
        }
      ]
    },
    {
      "cell_type": "code",
      "metadata": {
        "id": "ErcaPlnsBgsq",
        "colab_type": "code",
        "colab": {
          "base_uri": "https://localhost:8080/",
          "height": 190
        },
        "outputId": "468534a7-e4b6-4d29-a645-849aa5a642f5"
      },
      "source": [
        "(1, 2, 3)[-4]"
      ],
      "execution_count": 67,
      "outputs": [
        {
          "output_type": "error",
          "ename": "IndexError",
          "evalue": "ignored",
          "traceback": [
            "\u001b[0;31m---------------------------------------------------------------------------\u001b[0m",
            "\u001b[0;31mIndexError\u001b[0m                                Traceback (most recent call last)",
            "\u001b[0;32m<ipython-input-67-c86287c47ea8>\u001b[0m in \u001b[0;36m<module>\u001b[0;34m()\u001b[0m\n\u001b[0;32m----> 1\u001b[0;31m \u001b[0;34m(\u001b[0m\u001b[0;36m1\u001b[0m\u001b[0;34m,\u001b[0m \u001b[0;36m2\u001b[0m\u001b[0;34m,\u001b[0m \u001b[0;36m3\u001b[0m\u001b[0;34m)\u001b[0m\u001b[0;34m[\u001b[0m\u001b[0;34m-\u001b[0m\u001b[0;36m4\u001b[0m\u001b[0;34m]\u001b[0m\u001b[0;34m\u001b[0m\u001b[0;34m\u001b[0m\u001b[0m\n\u001b[0m",
            "\u001b[0;31mIndexError\u001b[0m: tuple index out of range"
          ]
        }
      ]
    },
    {
      "cell_type": "markdown",
      "metadata": {
        "id": "D3BmSoxUSPSU",
        "colab_type": "text"
      },
      "source": [
        "## Indexing Exercises\n",
        "\n",
        "Using the example dataset *scores*, select only the described elements from each list:"
      ]
    },
    {
      "cell_type": "markdown",
      "metadata": {
        "id": "LUekRLlXSPSU",
        "colab_type": "text"
      },
      "source": [
        "0. The first score"
      ]
    },
    {
      "cell_type": "code",
      "metadata": {
        "id": "kP9MTAsiSPSV",
        "colab_type": "code",
        "colab": {
          "base_uri": "https://localhost:8080/",
          "height": 35
        },
        "outputId": "dafe7ac4-899e-4fea-cf22-f33921fa0131"
      },
      "source": [
        "(0.2, 0.3, 0.9, 1.1, 2.2, 2.9, 0.0, 0.7, 1.3, 0.3, 0.5, 0.1, 0.0)[0]"
      ],
      "execution_count": 72,
      "outputs": [
        {
          "output_type": "execute_result",
          "data": {
            "text/plain": [
              "0.2"
            ]
          },
          "metadata": {
            "tags": []
          },
          "execution_count": 72
        }
      ]
    },
    {
      "cell_type": "markdown",
      "metadata": {
        "id": "_Pz43dy-SPSY",
        "colab_type": "text"
      },
      "source": [
        "1. The third score"
      ]
    },
    {
      "cell_type": "code",
      "metadata": {
        "id": "wVaBfSo6SPSY",
        "colab_type": "code",
        "colab": {
          "base_uri": "https://localhost:8080/",
          "height": 35
        },
        "outputId": "9b1da5a2-e172-48ce-cb83-fcf83629144d"
      },
      "source": [
        "(0.2, 0.3, 0.9, 1.1, 2.2, 2.9, 0.0, 0.7, 1.3, 0.3, 0.5, 0.1, 0.0)[2]"
      ],
      "execution_count": 73,
      "outputs": [
        {
          "output_type": "execute_result",
          "data": {
            "text/plain": [
              "0.9"
            ]
          },
          "metadata": {
            "tags": []
          },
          "execution_count": 73
        }
      ]
    },
    {
      "cell_type": "markdown",
      "metadata": {
        "id": "9m5oMlUiSPSa",
        "colab_type": "text"
      },
      "source": [
        "2. The last score"
      ]
    },
    {
      "cell_type": "code",
      "metadata": {
        "id": "v97EBmJPSPSb",
        "colab_type": "code",
        "colab": {
          "base_uri": "https://localhost:8080/",
          "height": 35
        },
        "outputId": "91218586-f636-41a9-a32c-f16701355c73"
      },
      "source": [
        "(0.2, 0.3, 0.9, 1.1, 2.2, 2.9, 0.0, 0.7, 1.3, 0.3, 0.5, 0.1, 0.0)[-1]"
      ],
      "execution_count": 74,
      "outputs": [
        {
          "output_type": "execute_result",
          "data": {
            "text/plain": [
              "0.0"
            ]
          },
          "metadata": {
            "tags": []
          },
          "execution_count": 74
        }
      ]
    },
    {
      "cell_type": "markdown",
      "metadata": {
        "id": "wgvtI94rSPSf",
        "colab_type": "text"
      },
      "source": [
        "3. The 2nd through 5th score"
      ]
    },
    {
      "cell_type": "code",
      "metadata": {
        "id": "Gbj2rQejSPSh",
        "colab_type": "code",
        "colab": {
          "base_uri": "https://localhost:8080/",
          "height": 35
        },
        "outputId": "6e8b2aab-1147-4ec4-cf2b-e20b55a6dbfc"
      },
      "source": [
        "(0.2, 0.3, 0.9, 1.1, 2.2, 2.9, 0.0, 0.7, 1.3, 0.3, 0.5, 0.1, 0.0)[1:5]"
      ],
      "execution_count": 76,
      "outputs": [
        {
          "output_type": "execute_result",
          "data": {
            "text/plain": [
              "(0.3, 0.9, 1.1, 2.2)"
            ]
          },
          "metadata": {
            "tags": []
          },
          "execution_count": 76
        }
      ]
    },
    {
      "cell_type": "markdown",
      "metadata": {
        "id": "6FuIhpF0SPSk",
        "colab_type": "text"
      },
      "source": [
        "4. Every second score (the first, third, fifth, etc)"
      ]
    },
    {
      "cell_type": "code",
      "metadata": {
        "id": "11p_knXuSPSl",
        "colab_type": "code",
        "colab": {
          "base_uri": "https://localhost:8080/",
          "height": 35
        },
        "outputId": "723882c9-cfaa-4041-9c2d-dd97375878c2"
      },
      "source": [
        "(0.2, 0.3, 0.9, 1.1, 2.2, 2.9, 0.0, 0.7, 1.3, 0.3, 0.5, 0.1, 0.0)[1::2]"
      ],
      "execution_count": 79,
      "outputs": [
        {
          "output_type": "execute_result",
          "data": {
            "text/plain": [
              "(0.3, 1.1, 2.9, 0.7, 0.3, 0.1)"
            ]
          },
          "metadata": {
            "tags": []
          },
          "execution_count": 79
        }
      ]
    },
    {
      "cell_type": "code",
      "metadata": {
        "id": "zXUqX80YHCcr",
        "colab_type": "code",
        "colab": {
          "base_uri": "https://localhost:8080/",
          "height": 35
        },
        "outputId": "1c5e6c64-a93d-4e80-bfd5-74e908883247"
      },
      "source": [
        "[1, 2, 3, 4, 5, 6, 7, 8, 9][1::3][0:-1]"
      ],
      "execution_count": 85,
      "outputs": [
        {
          "output_type": "execute_result",
          "data": {
            "text/plain": [
              "[2, 5]"
            ]
          },
          "metadata": {
            "tags": []
          },
          "execution_count": 85
        }
      ]
    },
    {
      "cell_type": "markdown",
      "metadata": {
        "id": "NmbtFP25Hizs",
        "colab_type": "text"
      },
      "source": [
        ""
      ]
    },
    {
      "cell_type": "markdown",
      "metadata": {
        "id": "84o2FefzSPSn",
        "colab_type": "text"
      },
      "source": [
        "5. Every score after the 4th score"
      ]
    },
    {
      "cell_type": "code",
      "metadata": {
        "id": "gaNsiiDKSPSo",
        "colab_type": "code",
        "outputId": "227faa75-78b5-47a7-f1e8-69285a86a698",
        "colab": {
          "base_uri": "https://localhost:8080/",
          "height": 35
        }
      },
      "source": [
        "(0.2, 0.3, 0.9, 1.1, 2.2, 2.9, 0.0, 0.7, 1.3, 0.3, 0.5, 0.1, 0.0)[4:]"
      ],
      "execution_count": 86,
      "outputs": [
        {
          "output_type": "execute_result",
          "data": {
            "text/plain": [
              "(2.2, 2.9, 0.0, 0.7, 1.3, 0.3, 0.5, 0.1, 0.0)"
            ]
          },
          "metadata": {
            "tags": []
          },
          "execution_count": 86
        }
      ]
    },
    {
      "cell_type": "markdown",
      "metadata": {
        "id": "CMhxVv0sSPSr",
        "colab_type": "text"
      },
      "source": [
        "6. Every second score from the 2nd to the 8th."
      ]
    },
    {
      "cell_type": "code",
      "metadata": {
        "id": "3z7fgeDTSPSs",
        "colab_type": "code",
        "outputId": "f64640fe-cfdb-4ee0-ca1a-bb4529affafd",
        "colab": {
          "base_uri": "https://localhost:8080/",
          "height": 35
        }
      },
      "source": [
        "(0.2, 0.3, 0.9, 1.1, 2.2, 2.9, 0.0, 0.7, 1.3, 0.3, 0.5, 0.1, 0.0)[1:8:2]"
      ],
      "execution_count": 87,
      "outputs": [
        {
          "output_type": "execute_result",
          "data": {
            "text/plain": [
              "(0.3, 1.1, 2.9, 0.7)"
            ]
          },
          "metadata": {
            "tags": []
          },
          "execution_count": 87
        }
      ]
    },
    {
      "cell_type": "markdown",
      "metadata": {
        "id": "iNvKn_OQSPSw",
        "colab_type": "text"
      },
      "source": [
        "## Python as an Abstractable Data Aggregator\n",
        "\n",
        "Python can use named **functions** that turn data into something else.  By doing this repeatedly, in sequence, we can build data processing pipelines!\n",
        "\n",
        "Functions in Python have the following syntax:\n",
        "\n",
        "```\n",
        "output = function(input)\n",
        "```\n",
        "\n",
        "First, let's look at some **built-in** functions to get a sense of how they work:  **min()**, **max()**, **sum()**, and **len()**:\n",
        "\n",
        "```python\n",
        ">>> min([1, 2, 3, 2])\n",
        "1\n",
        "\n",
        ">>> max([1, 2, 3, 2])\n",
        "3\n",
        "\n",
        ">>> sum([1, 2, 3, 2])\n",
        "8\n",
        "\n",
        ">>> len([1, 2, 3, 2])\n",
        "4\n",
        "```"
      ]
    },
    {
      "cell_type": "markdown",
      "metadata": {
        "id": "xj3jzuzqSPSw",
        "colab_type": "text"
      },
      "source": [
        "### Exercises: \n",
        "Read the following lines of Python and predict their output.  Then, run the code to see if you were correct."
      ]
    },
    {
      "cell_type": "markdown",
      "metadata": {
        "id": "MRdhXZ_ASPSx",
        "colab_type": "text"
      },
      "source": [
        "```python\n",
        "min([3, 6, 5, 2])\n",
        "```"
      ]
    },
    {
      "cell_type": "code",
      "metadata": {
        "id": "YlFAur76SPSy",
        "colab_type": "code",
        "colab": {
          "base_uri": "https://localhost:8080/",
          "height": 35
        },
        "outputId": "656a3837-6093-4751-83b9-69ce33d4eb64"
      },
      "source": [
        "min([3, 6, 5, 2])"
      ],
      "execution_count": 91,
      "outputs": [
        {
          "output_type": "execute_result",
          "data": {
            "text/plain": [
              "2"
            ]
          },
          "metadata": {
            "tags": []
          },
          "execution_count": 91
        }
      ]
    },
    {
      "cell_type": "markdown",
      "metadata": {
        "id": "Hr5y9yqbSPS1",
        "colab_type": "text"
      },
      "source": [
        "```python\n",
        "max([3, 6, 5, 2][2:])\n",
        "```"
      ]
    },
    {
      "cell_type": "code",
      "metadata": {
        "id": "H39TC5jsSPS2",
        "colab_type": "code",
        "colab": {}
      },
      "source": [
        "max([3, 6, 5, 2][2:])"
      ],
      "execution_count": 0,
      "outputs": []
    },
    {
      "cell_type": "markdown",
      "metadata": {
        "id": "xfvKw00kSPS6",
        "colab_type": "text"
      },
      "source": [
        "```python\n",
        "min([max((2, 4, 1)), len((2, 4, 1)), min([2, 4, 1])])\n",
        "```"
      ]
    },
    {
      "cell_type": "code",
      "metadata": {
        "id": "qGgF_RiwSPS7",
        "colab_type": "code",
        "colab": {}
      },
      "source": [
        "min([max((2, 4, 1)), len((2, 4, 1)), min([2, 4, 1])])"
      ],
      "execution_count": 0,
      "outputs": []
    },
    {
      "cell_type": "markdown",
      "metadata": {
        "id": "G0J7_kF_SPS_",
        "colab_type": "text"
      },
      "source": [
        "```python\n",
        "(min([1, 2]), max([3, 4, 5]))\n",
        "```"
      ]
    },
    {
      "cell_type": "code",
      "metadata": {
        "id": "V9Z-YVv0SPS_",
        "colab_type": "code",
        "colab": {
          "base_uri": "https://localhost:8080/",
          "height": 35
        },
        "outputId": "7a0dcebb-b0e2-4a27-fe80-8576bb3bcadd"
      },
      "source": [
        "(min([1, 2]), max([3, 4, 5]))"
      ],
      "execution_count": 92,
      "outputs": [
        {
          "output_type": "execute_result",
          "data": {
            "text/plain": [
              "(1, 5)"
            ]
          },
          "metadata": {
            "tags": []
          },
          "execution_count": 92
        }
      ]
    },
    {
      "cell_type": "markdown",
      "metadata": {
        "id": "O5p9zu31SPTC",
        "colab_type": "text"
      },
      "source": [
        "```python\n",
        "max([1, 2, 3, 4, 5, 6][1:3])\n",
        "```"
      ]
    },
    {
      "cell_type": "code",
      "metadata": {
        "id": "1ITRhZ-YSPTC",
        "colab_type": "code",
        "colab": {
          "base_uri": "https://localhost:8080/",
          "height": 35
        },
        "outputId": "809f7ae9-41f7-4116-ce65-4f3cf28a96e9"
      },
      "source": [
        "max([1, 2, 3, 4, 5, 6][1:3])"
      ],
      "execution_count": 93,
      "outputs": [
        {
          "output_type": "execute_result",
          "data": {
            "text/plain": [
              "3"
            ]
          },
          "metadata": {
            "tags": []
          },
          "execution_count": 93
        }
      ]
    },
    {
      "cell_type": "markdown",
      "metadata": {
        "id": "1p9NVuXlSPTE",
        "colab_type": "text"
      },
      "source": [
        "```python\n",
        "len({3, 4, 5, 5, 4})\n",
        "```"
      ]
    },
    {
      "cell_type": "code",
      "metadata": {
        "id": "YvI0Am8USPTG",
        "colab_type": "code",
        "colab": {
          "base_uri": "https://localhost:8080/",
          "height": 35
        },
        "outputId": "ff04b911-770a-4197-e1b6-256ad56a67bf"
      },
      "source": [
        "len({3, 4, 5, 5, 4})"
      ],
      "execution_count": 94,
      "outputs": [
        {
          "output_type": "execute_result",
          "data": {
            "text/plain": [
              "3"
            ]
          },
          "metadata": {
            "tags": []
          },
          "execution_count": 94
        }
      ]
    },
    {
      "cell_type": "markdown",
      "metadata": {
        "id": "stICtzWbSPTI",
        "colab_type": "text"
      },
      "source": [
        "```python\n",
        "len({1: 2, 3: 4, 5: 6, 7: 8})\n",
        "```"
      ]
    },
    {
      "cell_type": "code",
      "metadata": {
        "id": "zQ8wi812SPTJ",
        "colab_type": "code",
        "colab": {
          "base_uri": "https://localhost:8080/",
          "height": 35
        },
        "outputId": "a86a771d-f283-4795-e0a0-0245b09335ee"
      },
      "source": [
        "len({1: 2, 3: 4, 5: 6, 7: 8})"
      ],
      "execution_count": 95,
      "outputs": [
        {
          "output_type": "execute_result",
          "data": {
            "text/plain": [
              "4"
            ]
          },
          "metadata": {
            "tags": []
          },
          "execution_count": 95
        }
      ]
    },
    {
      "cell_type": "markdown",
      "metadata": {
        "id": "Da41WKeISPTL",
        "colab_type": "text"
      },
      "source": [
        "## Python as an Ecosystem of Functions\n",
        "\n",
        "There are millions of functions that can be used in Python.  To access them, you first have to **import** their **packages/modules**.  Then you can specify the functions inside the packages using the following syntax:\n",
        "\n",
        "```\n",
        "import package\n",
        "output = package.function(input)\n",
        "```\n",
        "\n",
        "Sometimes, packages have **subpackages** that contain functions, too:\n",
        "\n",
        "```\n",
        "output = package.subpackage.function(input)\n",
        "```\n",
        "\n",
        "If you only need one subpackage in a function, you can make your lines shorter by importing the subpackage directly:\n",
        "\n",
        "```\n",
        "from package import subpackage\n",
        "output = subpackage.function(input)\n",
        "```\n",
        "\n",
        "To get a list of functions in a package, try using the **dir()** function.  To learn what the function does, try the **help()** function.\n",
        "\n",
        "```python\n",
        "import math\n",
        "dir(math)\n",
        "help(math.sqrt)\n",
        "```\n"
      ]
    },
    {
      "cell_type": "code",
      "metadata": {
        "id": "44OxEh-IMuyJ",
        "colab_type": "code",
        "colab": {
          "base_uri": "https://localhost:8080/",
          "height": 141
        },
        "outputId": "235cf479-1df2-43aa-e8e0-d9abbd74f154"
      },
      "source": [
        "import math\n",
        "dir(math)\n",
        "help(math.tan)\n",
        "math.degrees()"
      ],
      "execution_count": 102,
      "outputs": [
        {
          "output_type": "stream",
          "text": [
            "Help on built-in function tan in module math:\n",
            "\n",
            "tan(...)\n",
            "    tan(x)\n",
            "    \n",
            "    Return the tangent of x (measured in radians).\n",
            "\n"
          ],
          "name": "stdout"
        }
      ]
    },
    {
      "cell_type": "markdown",
      "metadata": {
        "id": "d9PNqOR9SPTL",
        "colab_type": "text"
      },
      "source": [
        "Let's try out the built-in **math** and **statistics** packages to do some calculating!"
      ]
    },
    {
      "cell_type": "markdown",
      "metadata": {
        "id": "xzuFRThNSPTN",
        "colab_type": "text"
      },
      "source": [
        "What is the mean of all the integers from 1 to 6?"
      ]
    },
    {
      "cell_type": "code",
      "metadata": {
        "id": "zN2aM-_pSPTN",
        "colab_type": "code",
        "colab": {}
      },
      "source": [
        "import statistics\n",
        "import math"
      ],
      "execution_count": 0,
      "outputs": []
    },
    {
      "cell_type": "code",
      "metadata": {
        "id": "atpeEsMpQpbb",
        "colab_type": "code",
        "colab": {
          "base_uri": "https://localhost:8080/",
          "height": 35
        },
        "outputId": "a6ac3861-f66b-4aad-e80d-a877f0de295b"
      },
      "source": [
        "statistics.mean([1, 2, 3, 4, 5, 6])"
      ],
      "execution_count": 111,
      "outputs": [
        {
          "output_type": "execute_result",
          "data": {
            "text/plain": [
              "3.5"
            ]
          },
          "metadata": {
            "tags": []
          },
          "execution_count": 111
        }
      ]
    },
    {
      "cell_type": "code",
      "metadata": {
        "id": "W2PF4o6yRKMP",
        "colab_type": "code",
        "colab": {
          "base_uri": "https://localhost:8080/",
          "height": 35
        },
        "outputId": "839184da-6e1b-489c-bdce-6355c3063309"
      },
      "source": [
        "statistics.mean([1, 2, 3, 4, 4])"
      ],
      "execution_count": 110,
      "outputs": [
        {
          "output_type": "execute_result",
          "data": {
            "text/plain": [
              "2.8"
            ]
          },
          "metadata": {
            "tags": []
          },
          "execution_count": 110
        }
      ]
    },
    {
      "cell_type": "markdown",
      "metadata": {
        "id": "Cl3Vdb14SPTQ",
        "colab_type": "text"
      },
      "source": [
        "What is the standard deviation of the integers from 1 to 6?"
      ]
    },
    {
      "cell_type": "code",
      "metadata": {
        "id": "YCzkX7MvSPTQ",
        "colab_type": "code",
        "colab": {
          "base_uri": "https://localhost:8080/",
          "height": 35
        },
        "outputId": "9bd51cab-0fe0-4b8f-f796-352fdcfc1db5"
      },
      "source": [
        "statistics.stdev([1, 2, 3, 4, 5, 6])"
      ],
      "execution_count": 114,
      "outputs": [
        {
          "output_type": "execute_result",
          "data": {
            "text/plain": [
              "1.8708286933869707"
            ]
          },
          "metadata": {
            "tags": []
          },
          "execution_count": 114
        }
      ]
    },
    {
      "cell_type": "markdown",
      "metadata": {
        "id": "a1eLIz3aSPTS",
        "colab_type": "text"
      },
      "source": [
        "What is the square root of 72?"
      ]
    },
    {
      "cell_type": "code",
      "metadata": {
        "id": "8aP1RXynSPTT",
        "colab_type": "code",
        "colab": {
          "base_uri": "https://localhost:8080/",
          "height": 35
        },
        "outputId": "8fa8a509-8730-47c4-d07c-0fb1043d45e9"
      },
      "source": [
        "math.sqrt(72)"
      ],
      "execution_count": 115,
      "outputs": [
        {
          "output_type": "execute_result",
          "data": {
            "text/plain": [
              "8.48528137423857"
            ]
          },
          "metadata": {
            "tags": []
          },
          "execution_count": 115
        }
      ]
    },
    {
      "cell_type": "markdown",
      "metadata": {
        "id": "HLtZAjn5SPTV",
        "colab_type": "text"
      },
      "source": [
        "What is pi?"
      ]
    },
    {
      "cell_type": "code",
      "metadata": {
        "id": "sQVHW2pDSPTV",
        "colab_type": "code",
        "colab": {
          "base_uri": "https://localhost:8080/",
          "height": 35
        },
        "outputId": "f9f565a7-71cc-4ac4-ed43-398248fc8c89"
      },
      "source": [
        "math.pi"
      ],
      "execution_count": 118,
      "outputs": [
        {
          "output_type": "execute_result",
          "data": {
            "text/plain": [
              "3.141592653589793"
            ]
          },
          "metadata": {
            "tags": []
          },
          "execution_count": 118
        }
      ]
    },
    {
      "cell_type": "markdown",
      "metadata": {
        "id": "YsErBHIESPTX",
        "colab_type": "text"
      },
      "source": [
        "What how many radians are in 360 degrees?"
      ]
    },
    {
      "cell_type": "code",
      "metadata": {
        "id": "oAssSgyFSPTX",
        "colab_type": "code",
        "colab": {
          "base_uri": "https://localhost:8080/",
          "height": 35
        },
        "outputId": "bd5b0af3-7e8b-48b3-df91-b767a3a67a8f"
      },
      "source": [
        "math.radians(360)"
      ],
      "execution_count": 120,
      "outputs": [
        {
          "output_type": "execute_result",
          "data": {
            "text/plain": [
              "6.283185307179586"
            ]
          },
          "metadata": {
            "tags": []
          },
          "execution_count": 120
        }
      ]
    },
    {
      "cell_type": "markdown",
      "metadata": {
        "id": "qa0Hh50HSPTb",
        "colab_type": "text"
      },
      "source": [
        "Can you find a package that might have functions for random numbers?  Use it to generate a couple random numbers!"
      ]
    },
    {
      "cell_type": "code",
      "metadata": {
        "id": "5s_1cgDTSPTc",
        "colab_type": "code",
        "colab": {
          "base_uri": "https://localhost:8080/",
          "height": 35
        },
        "outputId": "0f66e895-587e-40af-b6fc-e9ddd1bf0d49"
      },
      "source": [
        "import random\n",
        "random.seed(2)\n",
        "random.random(), random.random()"
      ],
      "execution_count": 132,
      "outputs": [
        {
          "output_type": "execute_result",
          "data": {
            "text/plain": [
              "(0.9560342718892494, 0.9478274870593494)"
            ]
          },
          "metadata": {
            "tags": []
          },
          "execution_count": 132
        }
      ]
    },
    {
      "cell_type": "markdown",
      "metadata": {
        "id": "gwhKW5-vSPTe",
        "colab_type": "text"
      },
      "source": [
        "Look for names of some more built-in packages online!  Try importing them here."
      ]
    },
    {
      "cell_type": "code",
      "metadata": {
        "id": "byHqQZdZSPTe",
        "colab_type": "code",
        "colab": {}
      },
      "source": [
        ""
      ],
      "execution_count": 0,
      "outputs": []
    },
    {
      "cell_type": "markdown",
      "metadata": {
        "id": "7WOjhF5jSPTg",
        "colab_type": "text"
      },
      "source": [
        "## Python as State Machine\n",
        "\n",
        "Python can save all of its **objects** to your computer's internal memory by **assigning** a a **name** to it.  This is like giving the object a tag that can be referenced later, and it has many subtleties that we'll be exploring throughout the course.  Here's the syntax:\n",
        "\n",
        "```\n",
        "name = data\n",
        "```\n",
        "\n",
        "For example:\n",
        "\n",
        "```python\n",
        "x = 3\n",
        "nick = 100\n",
        "j_people = [\"John\", \"Jeff\", \"Judy\", \"Jenny\"]\n",
        "x2 = 4\n",
        "```\n",
        "\n",
        "While it looks like a normal math expression, this is, in reality, a **statement**; it changes the state of the program.  Let's explore it here:\n",
        "\n"
      ]
    },
    {
      "cell_type": "markdown",
      "metadata": {
        "id": "kDcviA0wSPTi",
        "colab_type": "text"
      },
      "source": [
        "#### Exercises"
      ]
    },
    {
      "cell_type": "markdown",
      "metadata": {
        "id": "aDN1UAamSPTj",
        "colab_type": "text"
      },
      "source": [
        "What should **x** equal?\n",
        "```python\n",
        "x = 3\n",
        "x = 4\n",
        "```"
      ]
    },
    {
      "cell_type": "code",
      "metadata": {
        "id": "GxEZqchASPTk",
        "colab_type": "code",
        "colab": {
          "base_uri": "https://localhost:8080/",
          "height": 35
        },
        "outputId": "dec6a960-620b-40f8-90b4-ad8b9d91c6f2"
      },
      "source": [
        "globals()['x'] = 15\n",
        "x"
      ],
      "execution_count": 136,
      "outputs": [
        {
          "output_type": "execute_result",
          "data": {
            "text/plain": [
              "15"
            ]
          },
          "metadata": {
            "tags": []
          },
          "execution_count": 136
        }
      ]
    },
    {
      "cell_type": "markdown",
      "metadata": {
        "id": "d0QkQdNvSPTm",
        "colab_type": "text"
      },
      "source": [
        "```python\n",
        "x = 3\n",
        "x = x + 1\n",
        "x = x + 1\n",
        "x = x + 1\n",
        "```"
      ]
    },
    {
      "cell_type": "code",
      "metadata": {
        "id": "HL7DQ40HSPTp",
        "colab_type": "code",
        "colab": {}
      },
      "source": [
        ""
      ],
      "execution_count": 0,
      "outputs": []
    },
    {
      "cell_type": "markdown",
      "metadata": {
        "id": "eBcTl1HJSPTu",
        "colab_type": "text"
      },
      "source": [
        "```python\n",
        "x = 3\n",
        "x -= 1\n",
        "```"
      ]
    },
    {
      "cell_type": "code",
      "metadata": {
        "id": "r94C-2EbSPTv",
        "colab_type": "code",
        "colab": {
          "base_uri": "https://localhost:8080/",
          "height": 35
        },
        "outputId": "e1a99b0d-a8e0-441f-c210-99ecd5d46e73"
      },
      "source": [
        "x = 3\n",
        "x -= 1\n",
        "x"
      ],
      "execution_count": 138,
      "outputs": [
        {
          "output_type": "execute_result",
          "data": {
            "text/plain": [
              "2"
            ]
          },
          "metadata": {
            "tags": []
          },
          "execution_count": 138
        }
      ]
    },
    {
      "cell_type": "markdown",
      "metadata": {
        "id": "WnqzcTO4SPTy",
        "colab_type": "text"
      },
      "source": [
        "```python\n",
        "x = \"Nick\"\n",
        "x = 0\n",
        "```"
      ]
    },
    {
      "cell_type": "code",
      "metadata": {
        "id": "59j1hpPeSPTz",
        "colab_type": "code",
        "colab": {}
      },
      "source": [
        ""
      ],
      "execution_count": 0,
      "outputs": []
    },
    {
      "cell_type": "markdown",
      "metadata": {
        "id": "tQyDSxtZSPT1",
        "colab_type": "text"
      },
      "source": [
        "```python\n",
        "max = sum\n",
        "x = max([1, 2, 3])\n",
        "```"
      ]
    },
    {
      "cell_type": "code",
      "metadata": {
        "id": "ayTt75E4SPT2",
        "colab_type": "code",
        "colab": {}
      },
      "source": [
        "mean = 4\n",
        "import math\n",
        "math.pi\n",
        "pi\n",
        "statistics.pi"
      ],
      "execution_count": 0,
      "outputs": []
    },
    {
      "cell_type": "code",
      "metadata": {
        "id": "iFNzrSmdbwGU",
        "colab_type": "code",
        "colab": {
          "base_uri": "https://localhost:8080/",
          "height": 409
        },
        "outputId": "0e5c58ca-1bcf-479f-ce27-82f0f31c180b"
      },
      "source": [
        "import this"
      ],
      "execution_count": 139,
      "outputs": [
        {
          "output_type": "stream",
          "text": [
            "The Zen of Python, by Tim Peters\n",
            "\n",
            "Beautiful is better than ugly.\n",
            "Explicit is better than implicit.\n",
            "Simple is better than complex.\n",
            "Complex is better than complicated.\n",
            "Flat is better than nested.\n",
            "Sparse is better than dense.\n",
            "Readability counts.\n",
            "Special cases aren't special enough to break the rules.\n",
            "Although practicality beats purity.\n",
            "Errors should never pass silently.\n",
            "Unless explicitly silenced.\n",
            "In the face of ambiguity, refuse the temptation to guess.\n",
            "There should be one-- and preferably only one --obvious way to do it.\n",
            "Although that way may not be obvious at first unless you're Dutch.\n",
            "Now is better than never.\n",
            "Although never is often better than *right* now.\n",
            "If the implementation is hard to explain, it's a bad idea.\n",
            "If the implementation is easy to explain, it may be a good idea.\n",
            "Namespaces are one honking great idea -- let's do more of those!\n"
          ],
          "name": "stdout"
        }
      ]
    },
    {
      "cell_type": "markdown",
      "metadata": {
        "id": "1vJF7EgjSPT3",
        "colab_type": "text"
      },
      "source": [
        "```python\n",
        "max = sum\n",
        "x = sum([1, 2, 3])\n",
        "```"
      ]
    },
    {
      "cell_type": "code",
      "metadata": {
        "id": "7R2IOrhmSPT3",
        "colab_type": "code",
        "colab": {}
      },
      "source": [
        ""
      ],
      "execution_count": 0,
      "outputs": []
    },
    {
      "cell_type": "markdown",
      "metadata": {
        "id": "PT45rRLGSPT9",
        "colab_type": "text"
      },
      "source": [
        "```python\n",
        "x = [1, 2, 3]\n",
        "x[1] = 4\n",
        "```"
      ]
    },
    {
      "cell_type": "code",
      "metadata": {
        "id": "q0DMV9P5SPT9",
        "colab_type": "code",
        "colab": {
          "base_uri": "https://localhost:8080/",
          "height": 35
        },
        "outputId": "ecd8a400-2a0c-49a2-9518-6c24df517a7c"
      },
      "source": [
        "x = [1, 2, 3]\n",
        "x[1] = 4\n",
        "x"
      ],
      "execution_count": 141,
      "outputs": [
        {
          "output_type": "execute_result",
          "data": {
            "text/plain": [
              "[1, 4, 3]"
            ]
          },
          "metadata": {
            "tags": []
          },
          "execution_count": 141
        }
      ]
    },
    {
      "cell_type": "markdown",
      "metadata": {
        "id": "NNN-AQa7SPT_",
        "colab_type": "text"
      },
      "source": [
        "```python\n",
        "x = [1, 2, 3]\n",
        "x[-1] = 4\n",
        "```"
      ]
    },
    {
      "cell_type": "code",
      "metadata": {
        "id": "qd5_E-uVSPT_",
        "colab_type": "code",
        "colab": {}
      },
      "source": [
        ""
      ],
      "execution_count": 0,
      "outputs": []
    },
    {
      "cell_type": "markdown",
      "metadata": {
        "id": "30zLap8FSPUB",
        "colab_type": "text"
      },
      "source": [
        "```python\n",
        "x = [1, 2, 3]\n",
        "x[0] = 4\n",
        "```"
      ]
    },
    {
      "cell_type": "code",
      "metadata": {
        "id": "5tgKmli6SPUB",
        "colab_type": "code",
        "colab": {
          "base_uri": "https://localhost:8080/",
          "height": 204
        },
        "outputId": "8ca5ad37-50cb-40af-8998-ceef3cb022e8"
      },
      "source": [
        "x = (1, 2, 3)\n",
        "x[0] = 4\n",
        "x"
      ],
      "execution_count": 145,
      "outputs": [
        {
          "output_type": "error",
          "ename": "TypeError",
          "evalue": "ignored",
          "traceback": [
            "\u001b[0;31m---------------------------------------------------------------------------\u001b[0m",
            "\u001b[0;31mTypeError\u001b[0m                                 Traceback (most recent call last)",
            "\u001b[0;32m<ipython-input-145-0f7bbe777ee0>\u001b[0m in \u001b[0;36m<module>\u001b[0;34m()\u001b[0m\n\u001b[1;32m      1\u001b[0m \u001b[0mx\u001b[0m \u001b[0;34m=\u001b[0m \u001b[0;34m(\u001b[0m\u001b[0;36m1\u001b[0m\u001b[0;34m,\u001b[0m \u001b[0;36m2\u001b[0m\u001b[0;34m,\u001b[0m \u001b[0;36m3\u001b[0m\u001b[0;34m)\u001b[0m\u001b[0;34m\u001b[0m\u001b[0;34m\u001b[0m\u001b[0m\n\u001b[0;32m----> 2\u001b[0;31m \u001b[0mx\u001b[0m\u001b[0;34m[\u001b[0m\u001b[0;36m0\u001b[0m\u001b[0;34m]\u001b[0m \u001b[0;34m=\u001b[0m \u001b[0;36m4\u001b[0m\u001b[0;34m\u001b[0m\u001b[0;34m\u001b[0m\u001b[0m\n\u001b[0m\u001b[1;32m      3\u001b[0m \u001b[0mx\u001b[0m\u001b[0;34m\u001b[0m\u001b[0;34m\u001b[0m\u001b[0m\n",
            "\u001b[0;31mTypeError\u001b[0m: 'tuple' object does not support item assignment"
          ]
        }
      ]
    },
    {
      "cell_type": "markdown",
      "metadata": {
        "id": "X3e5uuLSSPUE",
        "colab_type": "text"
      },
      "source": [
        "## Review: Class Discussion\n",
        "\n",
        "  1. Python has a lot of symbols in its syntax.  What are they, and what are they used for?\n",
        "  2. What are functions?  How do you use them?  Where can you get them?\n",
        "  3. What kinds of data collections are built-in to Python?  What concepts do they represent?\n",
        "  4. What is a \"logical expression\"?  What is a \"state change\"?\n",
        "  5. When are we getting coffee?"
      ]
    },
    {
      "cell_type": "markdown",
      "metadata": {
        "id": "1SiE-tKESPUE",
        "colab_type": "text"
      },
      "source": [
        "# Break"
      ]
    },
    {
      "cell_type": "code",
      "metadata": {
        "id": "lWR_NQhUi2Rz",
        "colab_type": "code",
        "colab": {
          "base_uri": "https://localhost:8080/",
          "height": 34
        },
        "outputId": "66e95095-e764-443a-b78b-2216b9205d78"
      },
      "source": [
        "name = \"Nick\"\n",
        "str.upper(name)\n",
        "name.upper()"
      ],
      "execution_count": 148,
      "outputs": [
        {
          "output_type": "execute_result",
          "data": {
            "text/plain": [
              "'NICK'"
            ]
          },
          "metadata": {
            "tags": []
          },
          "execution_count": 148
        }
      ]
    },
    {
      "cell_type": "markdown",
      "metadata": {
        "id": "nGSUqvq_SPUF",
        "colab_type": "text"
      },
      "source": [
        "# Exercise: Getting Help By Drawing With Turtles"
      ]
    },
    {
      "cell_type": "markdown",
      "metadata": {
        "id": "v3tdWXmtSPUH",
        "colab_type": "text"
      },
      "source": [
        "# Built-In Type Methods\n",
        "\n",
        "As we discussed in the lecture, all Python objects are **Objects**, which means they have **Properties/Attributes** (data) and **Methods** associated with them.  \n",
        "\n",
        "|  Object    | type(Object)  |  Example Method  |  Example Attribute  | \n",
        "| :----:     | :----------:  |  :------------:  |  :---------------:  |\n",
        "| \"Hello\"    |     str       |     lower()      |                     |\n",
        "|    42      |     int       |    bit_length()  |     numerator       |\n",
        "|   3.14     |    float      |    is_integer()  |     imag            |\n",
        "| ['a', 'b'] |  list         |     append()     |                     |\n",
        "\n",
        "\n",
        "These are accessible via the **. (dot)**, and an object's methods can be browsed in the notebook by typing the **Tab** key after the dot.\n",
        "\n",
        "For example, here we use a **string** **Class**'s *title()* method to capitalize the first letter of each word of the film title:"
      ]
    },
    {
      "cell_type": "code",
      "metadata": {
        "id": "0nVGiOzKSPUH",
        "colab_type": "code",
        "outputId": "2fbd7b23-6d28-4280-90e9-6e67c939bba0",
        "colab": {}
      },
      "source": [
        "film = 'the lion king'\n",
        "film"
      ],
      "execution_count": 0,
      "outputs": [
        {
          "output_type": "execute_result",
          "data": {
            "text/plain": [
              "'the lion king'"
            ]
          },
          "metadata": {
            "tags": []
          },
          "execution_count": 49
        }
      ]
    },
    {
      "cell_type": "code",
      "metadata": {
        "id": "qZJH0WNGSPUJ",
        "colab_type": "code",
        "outputId": "9c8b2156-4535-4129-ebb9-d0b96db4c528",
        "colab": {}
      },
      "source": [
        "type(film)"
      ],
      "execution_count": 0,
      "outputs": [
        {
          "output_type": "execute_result",
          "data": {
            "text/plain": [
              "str"
            ]
          },
          "metadata": {
            "tags": []
          },
          "execution_count": 51
        }
      ]
    },
    {
      "cell_type": "code",
      "metadata": {
        "id": "oB5KROCLSPUL",
        "colab_type": "code",
        "outputId": "3eb29781-4478-490f-f6ed-c471e5ce86b3",
        "colab": {}
      },
      "source": [
        "bigfilm = film.title()\n",
        "bigfilm"
      ],
      "execution_count": 0,
      "outputs": [
        {
          "output_type": "execute_result",
          "data": {
            "text/plain": [
              "'The Lion King'"
            ]
          },
          "metadata": {
            "tags": []
          },
          "execution_count": 50
        }
      ]
    },
    {
      "cell_type": "markdown",
      "metadata": {
        "id": "8CwddrnCSPUL",
        "colab_type": "text"
      },
      "source": [
        "## Exercises: Strings"
      ]
    },
    {
      "cell_type": "markdown",
      "metadata": {
        "id": "DarNDXBlSPUO",
        "colab_type": "text"
      },
      "source": [
        "Use the string methods to modify the following strings to the versions described below."
      ]
    },
    {
      "cell_type": "markdown",
      "metadata": {
        "id": "JJvQTYPtSPUP",
        "colab_type": "text"
      },
      "source": [
        "### Changing Strings\n",
        "\n",
        "Use the **strip**, **swapcase**, **title**, **lower**, **upper**, and **zfill** methods, or the **\\+** or **\\*** operators, to perform the following modifications:"
      ]
    },
    {
      "cell_type": "markdown",
      "metadata": {
        "id": "7Bzxfzx6SPUQ",
        "colab_type": "text"
      },
      "source": [
        "**\"I am angry\"** -> **\"I AM ANGRY\"**"
      ]
    },
    {
      "cell_type": "code",
      "metadata": {
        "id": "2gexVMRzSPUQ",
        "colab_type": "code",
        "colab": {
          "base_uri": "https://localhost:8080/",
          "height": 34
        },
        "outputId": "313810c0-1d23-48a2-dc7b-3da1bfcaefcb"
      },
      "source": [
        "x = \"I am angry\"\n",
        "x.upper()"
      ],
      "execution_count": 150,
      "outputs": [
        {
          "output_type": "execute_result",
          "data": {
            "text/plain": [
              "'I AM ANGRY'"
            ]
          },
          "metadata": {
            "tags": []
          },
          "execution_count": 150
        }
      ]
    },
    {
      "cell_type": "markdown",
      "metadata": {
        "id": "RwDAxGKNSPUT",
        "colab_type": "text"
      },
      "source": [
        "**\"the lion king\"** -> **\"The Lion King\"**"
      ]
    },
    {
      "cell_type": "code",
      "metadata": {
        "id": "PBgzBLFgSPUT",
        "colab_type": "code",
        "colab": {}
      },
      "source": [
        ""
      ],
      "execution_count": 0,
      "outputs": []
    },
    {
      "cell_type": "markdown",
      "metadata": {
        "id": "9Gun0-vbSPUV",
        "colab_type": "text"
      },
      "source": [
        "**He said, \"Are you okay?\"** -> **hE SAID, \"aRE YOU OKAY?\"**"
      ]
    },
    {
      "cell_type": "code",
      "metadata": {
        "id": "gqm9P7SBSPUV",
        "colab_type": "code",
        "colab": {}
      },
      "source": [
        ""
      ],
      "execution_count": 0,
      "outputs": []
    },
    {
      "cell_type": "markdown",
      "metadata": {
        "id": "y5EsXMvrSPUX",
        "colab_type": "text"
      },
      "source": [
        "**three** -> **threethreethree**"
      ]
    },
    {
      "cell_type": "code",
      "metadata": {
        "id": "b9fRGgBNSPUX",
        "colab_type": "code",
        "colab": {}
      },
      "source": [
        ""
      ],
      "execution_count": 0,
      "outputs": []
    },
    {
      "cell_type": "markdown",
      "metadata": {
        "id": "bT7OF5OaSPUY",
        "colab_type": "text"
      },
      "source": [
        "### Searching Substrings\n",
        "\n",
        "Use the **replace**, **count**, and **index** methods to search for a substring and answer the following questions using the example sentence below:\n",
        "\n",
        "```python\n",
        "sentence = \"The dog ate my watermelon when we were digging at the beach!\"\n",
        "```"
      ]
    },
    {
      "cell_type": "code",
      "metadata": {
        "id": "0usMcEBTSPUY",
        "colab_type": "code",
        "colab": {}
      },
      "source": [
        "sentence = \"The dog ate my watermelon when we were digging at the beach!\""
      ],
      "execution_count": 0,
      "outputs": []
    },
    {
      "cell_type": "markdown",
      "metadata": {
        "id": "OeKfOJ2_SPUb",
        "colab_type": "text"
      },
      "source": [
        "How many \"w\" characters are in this sentence?"
      ]
    },
    {
      "cell_type": "code",
      "metadata": {
        "id": "Orj1991ISPUc",
        "colab_type": "code",
        "colab": {}
      },
      "source": [
        ""
      ],
      "execution_count": 0,
      "outputs": []
    },
    {
      "cell_type": "markdown",
      "metadata": {
        "id": "kt8eueS8SPUf",
        "colab_type": "text"
      },
      "source": [
        "What character index does the word \"watermelon\" start on? (the first? The tenth?)"
      ]
    },
    {
      "cell_type": "code",
      "metadata": {
        "id": "0c6q281VSPUg",
        "colab_type": "code",
        "colab": {}
      },
      "source": [
        ""
      ],
      "execution_count": 0,
      "outputs": []
    },
    {
      "cell_type": "markdown",
      "metadata": {
        "id": "pTXac5_bSPUh",
        "colab_type": "text"
      },
      "source": [
        "Replace the word \"dog\" in the sentence with the word \"cat\""
      ]
    },
    {
      "cell_type": "code",
      "metadata": {
        "id": "cebkGu8RSPUh",
        "colab_type": "code",
        "colab": {}
      },
      "source": [
        ""
      ],
      "execution_count": 0,
      "outputs": []
    },
    {
      "cell_type": "markdown",
      "metadata": {
        "id": "yiXccyJqSPUj",
        "colab_type": "text"
      },
      "source": [
        "### Formatting Strings\n",
        "\n",
        "The most common method used for strings is the **format()** methods, so it deserves special mention.  It is used to insert data into a string.  It is similar to the **replace()** method but only replaces curly braces **{}**, but it is *way* more powerful.  In fact, there is a whole web page dedicated to showing all the ways you can use it: https://pyformat.info/\n",
        "\n",
        "```python\n",
        "label_fmt = \"Sample {}: Vial {}\"\n",
        "label_fmt.format(3, 4)\n",
        ">> \"Sample 3: Vial 4\"\n",
        "```"
      ]
    },
    {
      "cell_type": "markdown",
      "metadata": {
        "id": "0iSIQ4g4SPUk",
        "colab_type": "text"
      },
      "source": [
        "Using the **format()** method, make the following three sentences out of the original sentence below:"
      ]
    },
    {
      "cell_type": "code",
      "metadata": {
        "id": "Wn5hBUBQSPUk",
        "colab_type": "code",
        "colab": {}
      },
      "source": [
        "sentence = \"I bought {} dogs.\""
      ],
      "execution_count": 0,
      "outputs": []
    },
    {
      "cell_type": "markdown",
      "metadata": {
        "id": "DsrIsGdhSPUo",
        "colab_type": "text"
      },
      "source": [
        "1. \"I bought 3 dogs.\""
      ]
    },
    {
      "cell_type": "code",
      "metadata": {
        "id": "ar2eNeKLSPUp",
        "colab_type": "code",
        "colab": {}
      },
      "source": [
        ""
      ],
      "execution_count": 0,
      "outputs": []
    },
    {
      "cell_type": "markdown",
      "metadata": {
        "id": "MAcTnZi2SPUq",
        "colab_type": "text"
      },
      "source": [
        "2. \"Wendy bought 5 dogs.\""
      ]
    },
    {
      "cell_type": "code",
      "metadata": {
        "id": "3Cs0VmkqSPUr",
        "colab_type": "code",
        "colab": {}
      },
      "source": [
        ""
      ],
      "execution_count": 0,
      "outputs": []
    },
    {
      "cell_type": "markdown",
      "metadata": {
        "id": "NQJEclM_SPUs",
        "colab_type": "text"
      },
      "source": [
        "3. \"George bought 700 dogs.\""
      ]
    },
    {
      "cell_type": "code",
      "metadata": {
        "id": "YytFaxqfSPUs",
        "colab_type": "code",
        "colab": {}
      },
      "source": [
        ""
      ],
      "execution_count": 0,
      "outputs": []
    },
    {
      "cell_type": "markdown",
      "metadata": {
        "id": "61dX1jBbSPUt",
        "colab_type": "text"
      },
      "source": [
        "## Lists\n",
        "\n",
        "Lists represent sequences of data.  They are made with either the square brackets **[]** or the **list()** constructor function.  They can be appended to, just like strings, but they can contain any kind of data--numbers, strings, even other lists.  Their methods mostly revolve around inserting and removing things:\n",
        "\n",
        "| Method   |  What it Does                                  | \n",
        "| :-----:  |  :----------:                                  |\n",
        "| append() | Appends an item to the end of the list.        | \n",
        "| extend() | Appends several items to the end of the list.  | \n",
        "| remove() | Removes an item from the list.                 |\n",
        "| clear()  | Removes everything from the list.              | \n",
        "| copy()   | Returns a copy of the list.                    |\n",
        "| count()  | Removes a specified item from the list         | \n",
        "| sort()   | Sorts the list.                                |\n",
        "| reverse()| Reverses the order of items in the list.       |"
      ]
    },
    {
      "cell_type": "markdown",
      "metadata": {
        "id": "B-jCLflPSPUu",
        "colab_type": "text"
      },
      "source": [
        "**Example**\n",
        "\n",
        "Here is a list of colors:"
      ]
    },
    {
      "cell_type": "code",
      "metadata": {
        "id": "nCnKEsOtSPUu",
        "colab_type": "code",
        "outputId": "82836f3b-684f-4a77-933e-bc9d9748c640",
        "colab": {}
      },
      "source": [
        "colors = ['Red', 'Blue', 'Yello']\n",
        "colors"
      ],
      "execution_count": 0,
      "outputs": [
        {
          "output_type": "execute_result",
          "data": {
            "text/plain": [
              "['Red', 'Blue', 'Yello']"
            ]
          },
          "metadata": {
            "tags": []
          },
          "execution_count": 56
        }
      ]
    },
    {
      "cell_type": "markdown",
      "metadata": {
        "id": "3ZQbIGW7SPUv",
        "colab_type": "text"
      },
      "source": [
        "Let's append the color 'Yellow' to the list:"
      ]
    },
    {
      "cell_type": "code",
      "metadata": {
        "id": "XZ4-cuWXSPUv",
        "colab_type": "code",
        "outputId": "fc4d4295-9e15-4f57-f978-e349d3c17686",
        "colab": {}
      },
      "source": [
        "colors.append('Yellow')\n",
        "colors"
      ],
      "execution_count": 0,
      "outputs": [
        {
          "output_type": "execute_result",
          "data": {
            "text/plain": [
              "['Red', 'Blue', 'Yello', 'Yellow']"
            ]
          },
          "metadata": {
            "tags": []
          },
          "execution_count": 57
        }
      ]
    },
    {
      "cell_type": "markdown",
      "metadata": {
        "id": "ONLbjgh2SPUx",
        "colab_type": "text"
      },
      "source": [
        "*Note*: If you run the above code multiple times, 'Yellow' will be appended to the list multiple times!"
      ]
    },
    {
      "cell_type": "markdown",
      "metadata": {
        "id": "orMdz8xaSPUx",
        "colab_type": "text"
      },
      "source": [
        "### List Method Exercises"
      ]
    },
    {
      "cell_type": "markdown",
      "metadata": {
        "id": "XGZVD-O9SPUx",
        "colab_type": "text"
      },
      "source": [
        "1. Make a list of 3 movie titles."
      ]
    },
    {
      "cell_type": "code",
      "metadata": {
        "id": "Js33Wsk6SPUy",
        "colab_type": "code",
        "colab": {}
      },
      "source": [
        ""
      ],
      "execution_count": 0,
      "outputs": []
    },
    {
      "cell_type": "markdown",
      "metadata": {
        "id": "5-p8-mVBSPUz",
        "colab_type": "text"
      },
      "source": [
        "2. You have a list of subjects for your experiment, and you want to add another one to that list!  How could you do it?"
      ]
    },
    {
      "cell_type": "code",
      "metadata": {
        "id": "CNKYZfN-SPUz",
        "colab_type": "code",
        "colab": {}
      },
      "source": [
        "subjects = ['NOP234', 'GHS673', 'JGL212']\n",
        "new_subject = 'ASF193'"
      ],
      "execution_count": 0,
      "outputs": []
    },
    {
      "cell_type": "code",
      "metadata": {
        "id": "WKEtoB-QSPU0",
        "colab_type": "code",
        "colab": {}
      },
      "source": [
        ""
      ],
      "execution_count": 0,
      "outputs": []
    },
    {
      "cell_type": "markdown",
      "metadata": {
        "id": "bos44gLZSPU2",
        "colab_type": "text"
      },
      "source": [
        "3. Now, a bunch of new subjects appeared!  How do you extend/append them to the main list?"
      ]
    },
    {
      "cell_type": "code",
      "metadata": {
        "id": "Qj6BufB_SPU3",
        "colab_type": "code",
        "colab": {}
      },
      "source": [
        "subjects = ['NOP234', 'GHS673', 'JGL212']\n",
        "new_subjects = ['ASF193', 'THW994', 'JJZ231']"
      ],
      "execution_count": 0,
      "outputs": []
    },
    {
      "cell_type": "code",
      "metadata": {
        "id": "nLBJcFzuSPU5",
        "colab_type": "code",
        "colab": {}
      },
      "source": [
        ""
      ],
      "execution_count": 0,
      "outputs": []
    },
    {
      "cell_type": "markdown",
      "metadata": {
        "id": "7n6oeL-eSPU6",
        "colab_type": "text"
      },
      "source": [
        "4. Please sort those subjects alphabetically.  It looks better that way, doesn't it?"
      ]
    },
    {
      "cell_type": "code",
      "metadata": {
        "id": "IO7uPoobSPU6",
        "colab_type": "code",
        "colab": {}
      },
      "source": [
        "subjects = ['NOP234', 'GHS673', 'jGL212', 'ASF193', 'THW994', 'JJZ231']"
      ],
      "execution_count": 0,
      "outputs": []
    },
    {
      "cell_type": "code",
      "metadata": {
        "id": "JeXR_JCBSPU7",
        "colab_type": "code",
        "colab": {}
      },
      "source": [
        ""
      ],
      "execution_count": 0,
      "outputs": []
    },
    {
      "cell_type": "markdown",
      "metadata": {
        "id": "jSxTxq1YSPU7",
        "colab_type": "text"
      },
      "source": [
        "5. Oh, no, 'JGL202' was a terrible subject, he intentionally ruined your study.  Well, there's no way you're keeping him.  How do you remove him from the list?"
      ]
    },
    {
      "cell_type": "code",
      "metadata": {
        "id": "rpOf6OZESPU8",
        "colab_type": "code",
        "colab": {}
      },
      "source": [
        "subjects = ['NOP234', 'GHS673', 'JGL212', 'ASF193', 'THW994', 'JJZ231']"
      ],
      "execution_count": 0,
      "outputs": []
    },
    {
      "cell_type": "markdown",
      "metadata": {
        "id": "av38k5f7SPU9",
        "colab_type": "text"
      },
      "source": [
        "## Further Learning Resources"
      ]
    },
    {
      "cell_type": "markdown",
      "metadata": {
        "id": "gfAp542tSPU9",
        "colab_type": "text"
      },
      "source": [
        "  - Official Documentation on String Methods: https://docs.python.org/3/library/stdtypes.html#string-methods\n",
        "  \n",
        "  - Online Tutorial on Python Strings: https://realpython.com/python-strings/\n",
        "  \n",
        "  - Official Documentation on List Methods: https://docs.python.org/3/library/stdtypes.html#lists\n",
        "  \n",
        "  - Online Tutorial on Python Lists: https://realpython.com/python-lists-tuples/\n",
        "  \n",
        "  "
      ]
    },
    {
      "cell_type": "markdown",
      "metadata": {
        "id": "1pR0dSDpSPU-",
        "colab_type": "text"
      },
      "source": [
        "## Extra Exercises\n",
        "\n",
        "If you'd like to do some more, here they are!\n",
        "\n",
        "\n",
        "1. You want to label your figure title with the subject code, and the subject code changes depending on which subject is being shown!  How could you stick a subject's name in your title string?"
      ]
    },
    {
      "cell_type": "code",
      "metadata": {
        "id": "BpZfQmwQSPU_",
        "colab_type": "code",
        "colab": {}
      },
      "source": [
        "subject = 'NOP234'\n",
        "title = \"Mean Values of SUBJECT NAME's data over Time\""
      ],
      "execution_count": 0,
      "outputs": []
    },
    {
      "cell_type": "code",
      "metadata": {
        "id": "Th-08p0RSPVA",
        "colab_type": "code",
        "colab": {}
      },
      "source": [
        ""
      ],
      "execution_count": 0,
      "outputs": []
    },
    {
      "cell_type": "markdown",
      "metadata": {
        "id": "qZ-kyZQJSPVB",
        "colab_type": "text"
      },
      "source": [
        "2. If you had formatted your title string in the following way, though, another string method would be more useful.  Which method would you use for this title:"
      ]
    },
    {
      "cell_type": "code",
      "metadata": {
        "id": "ZhXJK849SPVC",
        "colab_type": "code",
        "colab": {}
      },
      "source": [
        "subject1 = 'NOP234'\n",
        "subject2 = 'GHS673'\n",
        "title = \"Performance Comparison between Subjects {} and {}\""
      ],
      "execution_count": 0,
      "outputs": []
    },
    {
      "cell_type": "code",
      "metadata": {
        "id": "A8DmsvWFSPVD",
        "colab_type": "code",
        "colab": {}
      },
      "source": [
        ""
      ],
      "execution_count": 0,
      "outputs": []
    },
    {
      "cell_type": "markdown",
      "metadata": {
        "id": "qDVY_xooSPVF",
        "colab_type": "text"
      },
      "source": [
        "3. The conference says it only takes abstracts that have a maximum word count of 100 words.  Did our abstract make the cut?  \n",
        "\n",
        "*Hint: the len() function is useful here*"
      ]
    },
    {
      "cell_type": "code",
      "metadata": {
        "id": "yZT_VvqaSPVG",
        "colab_type": "code",
        "colab": {}
      },
      "source": [
        "abstract = \"\"\"We analyze the locomotor behavior of the rat during exploration, and show that digitally collected data (time series of positions) provide a sufftcient basis for establishing that the rat uses several distinct modes of motion (first, second, third, and sometimes fourth gear). The distinction between these modes is obtained by first segmenting the time series into sequences of data points occurring between arrests (as ascertained within the resolution of the data acquisition system). The statistical distribution of the maximal amount of motion occurring within each of these episodes is then analyzed and shown to be multi modal. This enables us to decompose motion into distinct modes.\"\"\"\n"
      ],
      "execution_count": 0,
      "outputs": []
    },
    {
      "cell_type": "markdown",
      "metadata": {
        "id": "Gboqv9PNSPVG",
        "colab_type": "text"
      },
      "source": [
        "Oh, wait, now that I look closer, it actually says that it's a maximum of 100 **unique** words--duplicated words don't count.  How many unique words do we have in our abstract?  (What a strange conference...)\n",
        "\n",
        "\n",
        "*Hint: Try this out with the **set()** class.*"
      ]
    },
    {
      "cell_type": "code",
      "metadata": {
        "id": "owLKuZwqSPVJ",
        "colab_type": "code",
        "colab": {}
      },
      "source": [
        ""
      ],
      "execution_count": 0,
      "outputs": []
    }
  ]
}