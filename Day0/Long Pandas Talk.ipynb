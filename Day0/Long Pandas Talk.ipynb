{
 "cells": [
  {
   "cell_type": "code",
   "execution_count": 1,
   "metadata": {},
   "outputs": [],
   "source": [
    "from IPython.display import HTML, IFrame, YouTubeVideo, Image\n",
    "import numpy as np\n",
    "import matplotlib\n",
    "import matplotlib.pyplot as plt\n",
    "%matplotlib inline"
   ]
  },
  {
   "cell_type": "code",
   "execution_count": 2,
   "metadata": {},
   "outputs": [],
   "source": [
    "matplotlib.style.use('seaborn-talk')"
   ]
  },
  {
   "cell_type": "markdown",
   "metadata": {
    "slideshow": {
     "slide_type": "slide"
    }
   },
   "source": [
    "# \"Tidy\" Data in Python: Embracing the Long DataFrame\n",
    "\n",
    "## Nick Del Grosso, PyData München"
   ]
  },
  {
   "cell_type": "code",
   "execution_count": 3,
   "metadata": {},
   "outputs": [
    {
     "data": {
      "text/html": [
       "\n",
       "        <iframe\n",
       "            width=\"800\"\n",
       "            height=\"600\"\n",
       "            src=\"https://www.tidyverse.org/\"\n",
       "            frameborder=\"0\"\n",
       "            allowfullscreen\n",
       "        ></iframe>\n",
       "        "
      ],
      "text/plain": [
       "<IPython.lib.display.IFrame at 0x7f31f7839128>"
      ]
     },
     "execution_count": 3,
     "metadata": {},
     "output_type": "execute_result"
    }
   ],
   "source": [
    "IFrame('https://www.tidyverse.org/', width=800, height=600)"
   ]
  },
  {
   "cell_type": "markdown",
   "metadata": {
    "slideshow": {
     "slide_type": "slide"
    }
   },
   "source": [
    "## Today's Packages"
   ]
  },
  {
   "cell_type": "code",
   "execution_count": 4,
   "metadata": {},
   "outputs": [],
   "source": [
    "import numpy as np\n",
    "import matplotlib.pyplot as plt\n",
    "%matplotlib inline"
   ]
  },
  {
   "cell_type": "code",
   "execution_count": 5,
   "metadata": {},
   "outputs": [],
   "source": [
    "import pandas as pd"
   ]
  },
  {
   "cell_type": "code",
   "execution_count": 6,
   "metadata": {},
   "outputs": [],
   "source": [
    "import seaborn as sns"
   ]
  },
  {
   "cell_type": "markdown",
   "metadata": {},
   "source": [
    "## Today's Data will be..."
   ]
  },
  {
   "cell_type": "code",
   "execution_count": 7,
   "metadata": {},
   "outputs": [
    {
     "data": {
      "text/html": [
       "\n",
       "        <iframe\n",
       "            width=\"900\"\n",
       "            height=\"600\"\n",
       "            src=\"http://www.statsmodels.org/stable/datasets/index.html\"\n",
       "            frameborder=\"0\"\n",
       "            allowfullscreen\n",
       "        ></iframe>\n",
       "        "
      ],
      "text/plain": [
       "<IPython.lib.display.IFrame at 0x7f31e6a9a470>"
      ]
     },
     "execution_count": 7,
     "metadata": {},
     "output_type": "execute_result"
    }
   ],
   "source": [
    "from statsmodels import datasets\n",
    "IFrame('http://www.statsmodels.org/stable/datasets/index.html', width=900, height=600)"
   ]
  },
  {
   "cell_type": "markdown",
   "metadata": {
    "slideshow": {
     "slide_type": "slide"
    }
   },
   "source": [
    "## Our Sample Dataset for the Evening: World Fertility Rates!"
   ]
  },
  {
   "cell_type": "markdown",
   "metadata": {
    "slideshow": {
     "slide_type": "-"
    }
   },
   "source": [
    "![title](https://mereorthodoxy.com/wp-content/uploads/2017/05/landscape_movies-children-of-men.jpg)"
   ]
  },
  {
   "cell_type": "markdown",
   "metadata": {},
   "source": [
    "## Downloading the Data"
   ]
  },
  {
   "cell_type": "code",
   "execution_count": 8,
   "metadata": {
    "slideshow": {
     "slide_type": "subslide"
    }
   },
   "outputs": [
    {
     "data": {
      "text/html": [
       "<div>\n",
       "<style scoped>\n",
       "    .dataframe tbody tr th:only-of-type {\n",
       "        vertical-align: middle;\n",
       "    }\n",
       "\n",
       "    .dataframe tbody tr th {\n",
       "        vertical-align: top;\n",
       "    }\n",
       "\n",
       "    .dataframe thead th {\n",
       "        text-align: right;\n",
       "    }\n",
       "</style>\n",
       "<table border=\"1\" class=\"dataframe\">\n",
       "  <thead>\n",
       "    <tr style=\"text-align: right;\">\n",
       "      <th></th>\n",
       "      <th>CountryName</th>\n",
       "      <th>CountryCode</th>\n",
       "      <th>IndicatorName</th>\n",
       "      <th>IndicatorCode</th>\n",
       "      <th>1960</th>\n",
       "      <th>1961</th>\n",
       "      <th>1962</th>\n",
       "      <th>1963</th>\n",
       "      <th>1964</th>\n",
       "      <th>1965</th>\n",
       "      <th>...</th>\n",
       "      <th>2004</th>\n",
       "      <th>2005</th>\n",
       "      <th>2006</th>\n",
       "      <th>2007</th>\n",
       "      <th>2008</th>\n",
       "      <th>2009</th>\n",
       "      <th>2010</th>\n",
       "      <th>2011</th>\n",
       "      <th>2012</th>\n",
       "      <th>2013</th>\n",
       "    </tr>\n",
       "  </thead>\n",
       "  <tbody>\n",
       "    <tr>\n",
       "      <th>0</th>\n",
       "      <td>Aruba</td>\n",
       "      <td>ABW</td>\n",
       "      <td>Fertility rate, total (births per woman)</td>\n",
       "      <td>SP.DYN.TFRT.IN</td>\n",
       "      <td>4.820</td>\n",
       "      <td>4.655</td>\n",
       "      <td>4.471</td>\n",
       "      <td>4.271</td>\n",
       "      <td>4.059</td>\n",
       "      <td>3.842</td>\n",
       "      <td>...</td>\n",
       "      <td>1.786</td>\n",
       "      <td>1.769</td>\n",
       "      <td>1.754</td>\n",
       "      <td>1.739</td>\n",
       "      <td>1.726</td>\n",
       "      <td>1.713</td>\n",
       "      <td>1.701</td>\n",
       "      <td>1.690</td>\n",
       "      <td>NaN</td>\n",
       "      <td>NaN</td>\n",
       "    </tr>\n",
       "    <tr>\n",
       "      <th>1</th>\n",
       "      <td>Andorra</td>\n",
       "      <td>AND</td>\n",
       "      <td>Fertility rate, total (births per woman)</td>\n",
       "      <td>SP.DYN.TFRT.IN</td>\n",
       "      <td>NaN</td>\n",
       "      <td>NaN</td>\n",
       "      <td>NaN</td>\n",
       "      <td>NaN</td>\n",
       "      <td>NaN</td>\n",
       "      <td>NaN</td>\n",
       "      <td>...</td>\n",
       "      <td>NaN</td>\n",
       "      <td>NaN</td>\n",
       "      <td>1.240</td>\n",
       "      <td>1.180</td>\n",
       "      <td>1.250</td>\n",
       "      <td>1.190</td>\n",
       "      <td>1.220</td>\n",
       "      <td>NaN</td>\n",
       "      <td>NaN</td>\n",
       "      <td>NaN</td>\n",
       "    </tr>\n",
       "    <tr>\n",
       "      <th>2</th>\n",
       "      <td>Afghanistan</td>\n",
       "      <td>AFG</td>\n",
       "      <td>Fertility rate, total (births per woman)</td>\n",
       "      <td>SP.DYN.TFRT.IN</td>\n",
       "      <td>7.671</td>\n",
       "      <td>7.671</td>\n",
       "      <td>7.671</td>\n",
       "      <td>7.671</td>\n",
       "      <td>7.671</td>\n",
       "      <td>7.671</td>\n",
       "      <td>...</td>\n",
       "      <td>7.136</td>\n",
       "      <td>6.930</td>\n",
       "      <td>6.702</td>\n",
       "      <td>6.456</td>\n",
       "      <td>6.196</td>\n",
       "      <td>5.928</td>\n",
       "      <td>5.659</td>\n",
       "      <td>5.395</td>\n",
       "      <td>NaN</td>\n",
       "      <td>NaN</td>\n",
       "    </tr>\n",
       "    <tr>\n",
       "      <th>3</th>\n",
       "      <td>Angola</td>\n",
       "      <td>AGO</td>\n",
       "      <td>Fertility rate, total (births per woman)</td>\n",
       "      <td>SP.DYN.TFRT.IN</td>\n",
       "      <td>7.316</td>\n",
       "      <td>7.354</td>\n",
       "      <td>7.385</td>\n",
       "      <td>7.410</td>\n",
       "      <td>7.425</td>\n",
       "      <td>7.430</td>\n",
       "      <td>...</td>\n",
       "      <td>6.704</td>\n",
       "      <td>6.657</td>\n",
       "      <td>6.598</td>\n",
       "      <td>6.523</td>\n",
       "      <td>6.434</td>\n",
       "      <td>6.331</td>\n",
       "      <td>6.218</td>\n",
       "      <td>6.099</td>\n",
       "      <td>NaN</td>\n",
       "      <td>NaN</td>\n",
       "    </tr>\n",
       "    <tr>\n",
       "      <th>4</th>\n",
       "      <td>Albania</td>\n",
       "      <td>ALB</td>\n",
       "      <td>Fertility rate, total (births per woman)</td>\n",
       "      <td>SP.DYN.TFRT.IN</td>\n",
       "      <td>6.186</td>\n",
       "      <td>6.076</td>\n",
       "      <td>5.956</td>\n",
       "      <td>5.833</td>\n",
       "      <td>5.711</td>\n",
       "      <td>5.594</td>\n",
       "      <td>...</td>\n",
       "      <td>2.004</td>\n",
       "      <td>1.919</td>\n",
       "      <td>1.849</td>\n",
       "      <td>1.796</td>\n",
       "      <td>1.761</td>\n",
       "      <td>1.744</td>\n",
       "      <td>1.741</td>\n",
       "      <td>1.748</td>\n",
       "      <td>NaN</td>\n",
       "      <td>NaN</td>\n",
       "    </tr>\n",
       "  </tbody>\n",
       "</table>\n",
       "<p>5 rows × 58 columns</p>\n",
       "</div>"
      ],
      "text/plain": [
       "   CountryName CountryCode                             IndicatorName  \\\n",
       "0        Aruba         ABW  Fertility rate, total (births per woman)   \n",
       "1      Andorra         AND  Fertility rate, total (births per woman)   \n",
       "2  Afghanistan         AFG  Fertility rate, total (births per woman)   \n",
       "3       Angola         AGO  Fertility rate, total (births per woman)   \n",
       "4      Albania         ALB  Fertility rate, total (births per woman)   \n",
       "\n",
       "    IndicatorCode   1960   1961   1962   1963   1964   1965  ...    2004  \\\n",
       "0  SP.DYN.TFRT.IN  4.820  4.655  4.471  4.271  4.059  3.842  ...   1.786   \n",
       "1  SP.DYN.TFRT.IN    NaN    NaN    NaN    NaN    NaN    NaN  ...     NaN   \n",
       "2  SP.DYN.TFRT.IN  7.671  7.671  7.671  7.671  7.671  7.671  ...   7.136   \n",
       "3  SP.DYN.TFRT.IN  7.316  7.354  7.385  7.410  7.425  7.430  ...   6.704   \n",
       "4  SP.DYN.TFRT.IN  6.186  6.076  5.956  5.833  5.711  5.594  ...   2.004   \n",
       "\n",
       "    2005   2006   2007   2008   2009   2010   2011  2012  2013  \n",
       "0  1.769  1.754  1.739  1.726  1.713  1.701  1.690   NaN   NaN  \n",
       "1    NaN  1.240  1.180  1.250  1.190  1.220    NaN   NaN   NaN  \n",
       "2  6.930  6.702  6.456  6.196  5.928  5.659  5.395   NaN   NaN  \n",
       "3  6.657  6.598  6.523  6.434  6.331  6.218  6.099   NaN   NaN  \n",
       "4  1.919  1.849  1.796  1.761  1.744  1.741  1.748   NaN   NaN  \n",
       "\n",
       "[5 rows x 58 columns]"
      ]
     },
     "execution_count": 8,
     "metadata": {},
     "output_type": "execute_result"
    }
   ],
   "source": [
    "from statsmodels import datasets\n",
    "df = datasets.fertility.load_pandas().data\n",
    "df.columns = df.columns.str.replace(' ', '')\n",
    "df.head()"
   ]
  },
  {
   "cell_type": "code",
   "execution_count": 10,
   "metadata": {},
   "outputs": [],
   "source": [
    "df.to_csv('worldbankdata.csv')"
   ]
  },
  {
   "cell_type": "markdown",
   "metadata": {
    "slideshow": {
     "slide_type": "subslide"
    }
   },
   "source": [
    "## Review of Pandas: Summarizing, Filtering, Selecting, Transforming, Aggregating, and Plotting\n",
    "Cana remove: 'CountryCode', 'IndicatorName', 'IndicatorCode'"
   ]
  },
  {
   "cell_type": "code",
   "execution_count": null,
   "metadata": {},
   "outputs": [],
   "source": []
  },
  {
   "cell_type": "markdown",
   "metadata": {
    "slideshow": {
     "slide_type": "slide"
    }
   },
   "source": [
    "## Question: How Has Denmarks's Fertility Rate Changed over Time?"
   ]
  },
  {
   "cell_type": "markdown",
   "metadata": {
    "slideshow": {
     "slide_type": "subslide"
    }
   },
   "source": [
    "### Minor Note:  Handling NaNs\n",
    "\n",
    "bfill 3, dropna"
   ]
  },
  {
   "cell_type": "code",
   "execution_count": null,
   "metadata": {},
   "outputs": [],
   "source": []
  },
  {
   "cell_type": "markdown",
   "metadata": {
    "slideshow": {
     "slide_type": "slide"
    }
   },
   "source": [
    "## Low-Level Approach: Pull Data Out to NumPy, then Analyze with Matplotlib"
   ]
  },
  {
   "cell_type": "code",
   "execution_count": null,
   "metadata": {},
   "outputs": [],
   "source": []
  },
  {
   "cell_type": "markdown",
   "metadata": {
    "slideshow": {
     "slide_type": "subslide"
    }
   },
   "source": [
    "# Pandas Approach: Reshape and Delete to New Wide Table\n",
    "Goal: Get Columns Labeled as Country Names, and Rows labeled as Years"
   ]
  },
  {
   "cell_type": "code",
   "execution_count": null,
   "metadata": {},
   "outputs": [],
   "source": []
  },
  {
   "cell_type": "markdown",
   "metadata": {},
   "source": [
    "# New Question: How has each Continent's Fertility Changed over Time?\n",
    "**Problem**: I don't know the Continent name of every country. :-(\n",
    "**Solution**: Look for Data online!"
   ]
  },
  {
   "cell_type": "code",
   "execution_count": 25,
   "metadata": {
    "scrolled": true
   },
   "outputs": [
    {
     "data": {
      "text/html": [
       "\n",
       "        <iframe\n",
       "            width=\"1000\"\n",
       "            height=\"600\"\n",
       "            src=\"http://techslides.com/list-of-countries-and-capitals\"\n",
       "            frameborder=\"0\"\n",
       "            allowfullscreen\n",
       "        ></iframe>\n",
       "        "
      ],
      "text/plain": [
       "<IPython.lib.display.IFrame at 0x7f31e27fcb70>"
      ]
     },
     "execution_count": 25,
     "metadata": {},
     "output_type": "execute_result"
    }
   ],
   "source": [
    "IFrame('http://techslides.com/list-of-countries-and-capitals', width=1000, height=600)"
   ]
  },
  {
   "cell_type": "markdown",
   "metadata": {},
   "source": [
    "## Using Pandas to Scrape HTML Tables from Web Sites"
   ]
  },
  {
   "cell_type": "code",
   "execution_count": 26,
   "metadata": {},
   "outputs": [
    {
     "data": {
      "text/html": [
       "<div>\n",
       "<style scoped>\n",
       "    .dataframe tbody tr th:only-of-type {\n",
       "        vertical-align: middle;\n",
       "    }\n",
       "\n",
       "    .dataframe tbody tr th {\n",
       "        vertical-align: top;\n",
       "    }\n",
       "\n",
       "    .dataframe thead th {\n",
       "        text-align: right;\n",
       "    }\n",
       "</style>\n",
       "<table border=\"1\" class=\"dataframe\">\n",
       "  <thead>\n",
       "    <tr style=\"text-align: right;\">\n",
       "      <th></th>\n",
       "      <th>Capital Name</th>\n",
       "      <th>Capital Latitude</th>\n",
       "      <th>Capital Longitude</th>\n",
       "      <th>Country Code</th>\n",
       "      <th>Continent Name</th>\n",
       "    </tr>\n",
       "    <tr>\n",
       "      <th>Country Name</th>\n",
       "      <th></th>\n",
       "      <th></th>\n",
       "      <th></th>\n",
       "      <th></th>\n",
       "      <th></th>\n",
       "    </tr>\n",
       "  </thead>\n",
       "  <tbody>\n",
       "    <tr>\n",
       "      <th>Afghanistan</th>\n",
       "      <td>Kabul</td>\n",
       "      <td>34.516667</td>\n",
       "      <td>69.183333</td>\n",
       "      <td>AF</td>\n",
       "      <td>Asia</td>\n",
       "    </tr>\n",
       "    <tr>\n",
       "      <th>Aland Islands</th>\n",
       "      <td>Mariehamn</td>\n",
       "      <td>60.116667</td>\n",
       "      <td>19.900000</td>\n",
       "      <td>AX</td>\n",
       "      <td>Europe</td>\n",
       "    </tr>\n",
       "    <tr>\n",
       "      <th>Albania</th>\n",
       "      <td>Tirana</td>\n",
       "      <td>41.316667</td>\n",
       "      <td>19.816667</td>\n",
       "      <td>AL</td>\n",
       "      <td>Europe</td>\n",
       "    </tr>\n",
       "    <tr>\n",
       "      <th>Algeria</th>\n",
       "      <td>Algiers</td>\n",
       "      <td>36.750000</td>\n",
       "      <td>3.050000</td>\n",
       "      <td>DZ</td>\n",
       "      <td>Africa</td>\n",
       "    </tr>\n",
       "    <tr>\n",
       "      <th>American Samoa</th>\n",
       "      <td>Pago Pago</td>\n",
       "      <td>-14.266667</td>\n",
       "      <td>-170.700000</td>\n",
       "      <td>AS</td>\n",
       "      <td>Australia</td>\n",
       "    </tr>\n",
       "  </tbody>\n",
       "</table>\n",
       "</div>"
      ],
      "text/plain": [
       "               Capital Name  Capital Latitude  Capital Longitude Country Code  \\\n",
       "Country Name                                                                    \n",
       "Afghanistan           Kabul         34.516667          69.183333           AF   \n",
       "Aland Islands     Mariehamn         60.116667          19.900000           AX   \n",
       "Albania              Tirana         41.316667          19.816667           AL   \n",
       "Algeria             Algiers         36.750000           3.050000           DZ   \n",
       "American Samoa    Pago Pago        -14.266667        -170.700000           AS   \n",
       "\n",
       "               Continent Name  \n",
       "Country Name                   \n",
       "Afghanistan              Asia  \n",
       "Aland Islands          Europe  \n",
       "Albania                Europe  \n",
       "Algeria                Africa  \n",
       "American Samoa      Australia  "
      ]
     },
     "execution_count": 26,
     "metadata": {},
     "output_type": "execute_result"
    }
   ],
   "source": [
    "countries = pd.read_html('http://techslides.com/list-of-countries-and-capitals', header=0)[0].set_index('Country Name')\n",
    "countries.head()"
   ]
  },
  {
   "cell_type": "markdown",
   "metadata": {},
   "source": [
    "# Problem: Where Should the Data Go?\n",
    "How do we cleanly associate our variables (Country, Continent, and our Years) in a 2D Structure?"
   ]
  },
  {
   "cell_type": "code",
   "execution_count": null,
   "metadata": {},
   "outputs": [],
   "source": []
  },
  {
   "cell_type": "markdown",
   "metadata": {},
   "source": [
    "## Our Options: Long Variable Names, Panels, MultiIndexing, or Long DataFrames\n",
    " \n",
    "  - **Long Variable Names**: \"Europe_Germany\".  Ugly.\n",
    "  - **MultiIndex**: Allows multiple nesting of columns. Works, but not fully supported--it's a bit finicky in practice.\n",
    "  - **Long DataFrames**: Clean, Simple to Use, and Scalable!\n",
    "  "
   ]
  },
  {
   "cell_type": "markdown",
   "metadata": {},
   "source": [
    "## Grouping Data using Dataframe.groupby()"
   ]
  },
  {
   "cell_type": "markdown",
   "metadata": {},
   "source": [
    "apply(), transform(), agg(), aggregate()"
   ]
  },
  {
   "cell_type": "markdown",
   "metadata": {},
   "source": [
    "## \"Gathering\" Data: Reshaping into a  \"Long\" Table with Pandas' melt() function"
   ]
  },
  {
   "cell_type": "markdown",
   "metadata": {},
   "source": [
    "## Joining DataFrames using \"Join\" and \"Merge\""
   ]
  },
  {
   "cell_type": "markdown",
   "metadata": {},
   "source": [
    "## A Benefit of Long DataFrames: Simpler Querying"
   ]
  },
  {
   "cell_type": "markdown",
   "metadata": {
    "slideshow": {
     "slide_type": "slide"
    }
   },
   "source": [
    "# Building Beautiful Plots with Seaborn"
   ]
  },
  {
   "cell_type": "code",
   "execution_count": 37,
   "metadata": {},
   "outputs": [
    {
     "data": {
      "text/html": [
       "\n",
       "        <iframe\n",
       "            width=\"800\"\n",
       "            height=\"600\"\n",
       "            src=\"http://seaborn.pydata.org/\"\n",
       "            frameborder=\"0\"\n",
       "            allowfullscreen\n",
       "        ></iframe>\n",
       "        "
      ],
      "text/plain": [
       "<IPython.lib.display.IFrame at 0x7f31d8863ac8>"
      ]
     },
     "execution_count": 37,
     "metadata": {},
     "output_type": "execute_result"
    }
   ],
   "source": [
    "IFrame('http://seaborn.pydata.org/', width=800, height=600)"
   ]
  },
  {
   "cell_type": "markdown",
   "metadata": {},
   "source": [
    "## Use Case: Time Series Plotting with Seaborn.lineplot()"
   ]
  },
  {
   "cell_type": "code",
   "execution_count": null,
   "metadata": {},
   "outputs": [],
   "source": []
  },
  {
   "cell_type": "markdown",
   "metadata": {},
   "source": [
    "## Seaborn's Killer Function:  catplot()"
   ]
  },
  {
   "cell_type": "code",
   "execution_count": null,
   "metadata": {},
   "outputs": [],
   "source": []
  }
 ],
 "metadata": {
  "anaconda-cloud": {},
  "kernelspec": {
   "display_name": "Python 3",
   "language": "python",
   "name": "python3"
  },
  "language_info": {
   "codemirror_mode": {
    "name": "ipython",
    "version": 3
   },
   "file_extension": ".py",
   "mimetype": "text/x-python",
   "name": "python",
   "nbconvert_exporter": "python",
   "pygments_lexer": "ipython3",
   "version": "3.6.9"
  }
 },
 "nbformat": 4,
 "nbformat_minor": 4
}
